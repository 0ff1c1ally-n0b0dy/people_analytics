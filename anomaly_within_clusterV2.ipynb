{
 "cells": [
  {
   "cell_type": "code",
   "execution_count": 34,
   "id": "2ceb5a0f",
   "metadata": {},
   "outputs": [],
   "source": [
    "import pandas as pd\n",
    "import numpy as np\n",
    "from sklearn.ensemble import IsolationForest\n",
    "import time\n",
    "import warnings\n",
    "import matplotlib.pyplot as plt\n",
    "\n",
    "warnings.filterwarnings(\"ignore\")\n",
    "\n",
    "seed=123456789\n",
    "quantile=0.95\n",
    "n_trees=100\n",
    "\n",
    "def timming(since):\n",
    "    time_elapsed=time.time()-since\n",
    "    minutes=time_elapsed//60\n",
    "    seconds=time_elapsed%60\n",
    "    return \"%d m: %d s\"%(minutes,seconds)"
   ]
  },
  {
   "cell_type": "code",
   "execution_count": 35,
   "id": "22bc5b5a",
   "metadata": {},
   "outputs": [
    {
     "data": {
      "text/html": [
       "<div>\n",
       "<style scoped>\n",
       "    .dataframe tbody tr th:only-of-type {\n",
       "        vertical-align: middle;\n",
       "    }\n",
       "\n",
       "    .dataframe tbody tr th {\n",
       "        vertical-align: top;\n",
       "    }\n",
       "\n",
       "    .dataframe thead th {\n",
       "        text-align: right;\n",
       "    }\n",
       "</style>\n",
       "<table border=\"1\" class=\"dataframe\">\n",
       "  <thead>\n",
       "    <tr style=\"text-align: right;\">\n",
       "      <th></th>\n",
       "      <th>Employee_Name</th>\n",
       "      <th>EmpID</th>\n",
       "      <th>PerfScoreID</th>\n",
       "      <th>FromDiversityJobFairID</th>\n",
       "      <th>Salary</th>\n",
       "      <th>Termd</th>\n",
       "      <th>Position</th>\n",
       "      <th>State</th>\n",
       "      <th>Zip</th>\n",
       "      <th>DOB</th>\n",
       "      <th>...</th>\n",
       "      <th>StateID</th>\n",
       "      <th>Age</th>\n",
       "      <th>SexID</th>\n",
       "      <th>MaritalDescID</th>\n",
       "      <th>CitizenDescID</th>\n",
       "      <th>HispanicLatinoID</th>\n",
       "      <th>RaceDescID</th>\n",
       "      <th>YearsHired</th>\n",
       "      <th>YearsTerminated</th>\n",
       "      <th>cluster</th>\n",
       "    </tr>\n",
       "  </thead>\n",
       "  <tbody>\n",
       "    <tr>\n",
       "      <th>0</th>\n",
       "      <td>Adinolfi, Wilson  K</td>\n",
       "      <td>10026</td>\n",
       "      <td>4</td>\n",
       "      <td>0</td>\n",
       "      <td>62506</td>\n",
       "      <td>0</td>\n",
       "      <td>Production Technician I</td>\n",
       "      <td>MA</td>\n",
       "      <td>1960</td>\n",
       "      <td>07/10/83</td>\n",
       "      <td>...</td>\n",
       "      <td>16</td>\n",
       "      <td>39</td>\n",
       "      <td>0</td>\n",
       "      <td>1</td>\n",
       "      <td>2</td>\n",
       "      <td>1</td>\n",
       "      <td>5</td>\n",
       "      <td>11</td>\n",
       "      <td>0</td>\n",
       "      <td>2</td>\n",
       "    </tr>\n",
       "    <tr>\n",
       "      <th>1</th>\n",
       "      <td>Ait Sidi, Karthikeyan</td>\n",
       "      <td>10084</td>\n",
       "      <td>3</td>\n",
       "      <td>0</td>\n",
       "      <td>104437</td>\n",
       "      <td>1</td>\n",
       "      <td>Sr. DBA</td>\n",
       "      <td>MA</td>\n",
       "      <td>2148</td>\n",
       "      <td>05/05/75</td>\n",
       "      <td>...</td>\n",
       "      <td>16</td>\n",
       "      <td>47</td>\n",
       "      <td>0</td>\n",
       "      <td>0</td>\n",
       "      <td>2</td>\n",
       "      <td>1</td>\n",
       "      <td>5</td>\n",
       "      <td>7</td>\n",
       "      <td>6</td>\n",
       "      <td>0</td>\n",
       "    </tr>\n",
       "    <tr>\n",
       "      <th>2</th>\n",
       "      <td>Akinkuolie, Sarah</td>\n",
       "      <td>10196</td>\n",
       "      <td>3</td>\n",
       "      <td>0</td>\n",
       "      <td>64955</td>\n",
       "      <td>1</td>\n",
       "      <td>Production Technician II</td>\n",
       "      <td>MA</td>\n",
       "      <td>1810</td>\n",
       "      <td>09/19/88</td>\n",
       "      <td>...</td>\n",
       "      <td>16</td>\n",
       "      <td>34</td>\n",
       "      <td>1</td>\n",
       "      <td>0</td>\n",
       "      <td>2</td>\n",
       "      <td>1</td>\n",
       "      <td>5</td>\n",
       "      <td>11</td>\n",
       "      <td>10</td>\n",
       "      <td>0</td>\n",
       "    </tr>\n",
       "    <tr>\n",
       "      <th>3</th>\n",
       "      <td>Alagbe,Trina</td>\n",
       "      <td>10088</td>\n",
       "      <td>3</td>\n",
       "      <td>0</td>\n",
       "      <td>64991</td>\n",
       "      <td>0</td>\n",
       "      <td>Production Technician I</td>\n",
       "      <td>MA</td>\n",
       "      <td>1886</td>\n",
       "      <td>09/27/88</td>\n",
       "      <td>...</td>\n",
       "      <td>16</td>\n",
       "      <td>34</td>\n",
       "      <td>1</td>\n",
       "      <td>0</td>\n",
       "      <td>2</td>\n",
       "      <td>1</td>\n",
       "      <td>5</td>\n",
       "      <td>14</td>\n",
       "      <td>0</td>\n",
       "      <td>0</td>\n",
       "    </tr>\n",
       "    <tr>\n",
       "      <th>4</th>\n",
       "      <td>Anderson, Carol</td>\n",
       "      <td>10069</td>\n",
       "      <td>3</td>\n",
       "      <td>0</td>\n",
       "      <td>50825</td>\n",
       "      <td>1</td>\n",
       "      <td>Production Technician I</td>\n",
       "      <td>MA</td>\n",
       "      <td>2169</td>\n",
       "      <td>09/08/89</td>\n",
       "      <td>...</td>\n",
       "      <td>16</td>\n",
       "      <td>33</td>\n",
       "      <td>1</td>\n",
       "      <td>2</td>\n",
       "      <td>2</td>\n",
       "      <td>1</td>\n",
       "      <td>5</td>\n",
       "      <td>11</td>\n",
       "      <td>6</td>\n",
       "      <td>4</td>\n",
       "    </tr>\n",
       "  </tbody>\n",
       "</table>\n",
       "<p>5 rows × 39 columns</p>\n",
       "</div>"
      ],
      "text/plain": [
       "              Employee_Name  EmpID  PerfScoreID  FromDiversityJobFairID  \\\n",
       "0       Adinolfi, Wilson  K  10026            4                       0   \n",
       "1  Ait Sidi, Karthikeyan     10084            3                       0   \n",
       "2         Akinkuolie, Sarah  10196            3                       0   \n",
       "3              Alagbe,Trina  10088            3                       0   \n",
       "4          Anderson, Carol   10069            3                       0   \n",
       "\n",
       "   Salary  Termd                  Position State   Zip       DOB  ... StateID  \\\n",
       "0   62506      0   Production Technician I    MA  1960  07/10/83  ...      16   \n",
       "1  104437      1                   Sr. DBA    MA  2148  05/05/75  ...      16   \n",
       "2   64955      1  Production Technician II    MA  1810  09/19/88  ...      16   \n",
       "3   64991      0   Production Technician I    MA  1886  09/27/88  ...      16   \n",
       "4   50825      1   Production Technician I    MA  2169  09/08/89  ...      16   \n",
       "\n",
       "  Age SexID MaritalDescID CitizenDescID HispanicLatinoID RaceDescID  \\\n",
       "0  39     0             1             2                1          5   \n",
       "1  47     0             0             2                1          5   \n",
       "2  34     1             0             2                1          5   \n",
       "3  34     1             0             2                1          5   \n",
       "4  33     1             2             2                1          5   \n",
       "\n",
       "  YearsHired YearsTerminated cluster  \n",
       "0         11               0       2  \n",
       "1          7               6       0  \n",
       "2         11              10       0  \n",
       "3         14               0       0  \n",
       "4         11               6       4  \n",
       "\n",
       "[5 rows x 39 columns]"
      ]
     },
     "execution_count": 35,
     "metadata": {},
     "output_type": "execute_result"
    }
   ],
   "source": [
    "data=pd.read_csv(\"HR_data_clusters.csv\",index_col=0)\n",
    "data.head()"
   ]
  },
  {
   "cell_type": "code",
   "execution_count": 36,
   "id": "e9710512",
   "metadata": {},
   "outputs": [],
   "source": [
    "all_columns=data.columns\n",
    "#demo_columns=[\"Salary\",\"EngagementSurvey\",\"EmpSatisfaction\",\"SpecialProjectsCount\",\"DaysLateLast30\",\"Absences\", \n",
    "#              \"PerformanceScore\",\"StateID\",\"Age\",\"SexID\",\"MaritalDescID\",\"CitizenDescID\",\"HispanicLatinoID\",\"RaceDescID\",\n",
    "#              \"YearsHired\",\"YearsTerminated\"]\n",
    "\n",
    "demo_columns=[\"StateID\",\"Age\",\"SexID\",\"MaritalDescID\",\"CitizenDescID\",\"HispanicLatinoID\",\"RaceDescID\",\n",
    "              \"YearsHired\",\"YearsTerminated\"]\n",
    "\n",
    "anomaly_columns=[\"Salary\",\"EngagementSurvey\",\"EmpSatisfaction\",\"SpecialProjectsCount\",\"DaysLateLast30\",\"Absences\", \n",
    "                 \"PerfScoreID\",\"cluster\"]"
   ]
  },
  {
   "cell_type": "code",
   "execution_count": 37,
   "id": "629dc72a",
   "metadata": {},
   "outputs": [
    {
     "name": "stdout",
     "output_type": "stream",
     "text": [
      "Index(['Employee_Name', 'EmpID', 'PerfScoreID', 'FromDiversityJobFairID',\n",
      "       'Salary', 'Termd', 'Position', 'State', 'Zip', 'DOB', 'Sex',\n",
      "       'MaritalDesc', 'CitizenDesc', 'HispanicLatino', 'RaceDesc',\n",
      "       'DateofHire', 'DateofTermination', 'TermReason', 'EmploymentStatus',\n",
      "       'Department', 'ManagerName', 'RecruitmentSource', 'PerformanceScore',\n",
      "       'EngagementSurvey', 'EmpSatisfaction', 'SpecialProjectsCount',\n",
      "       'LastPerformanceReview_Date', 'DaysLateLast30', 'Absences', 'StateID',\n",
      "       'Age', 'SexID', 'MaritalDescID', 'CitizenDescID', 'HispanicLatinoID',\n",
      "       'RaceDescID', 'YearsHired', 'YearsTerminated', 'cluster'],\n",
      "      dtype='object')\n"
     ]
    }
   ],
   "source": [
    "print(all_columns)"
   ]
  },
  {
   "cell_type": "code",
   "execution_count": 38,
   "id": "31a021d5",
   "metadata": {},
   "outputs": [
    {
     "data": {
      "text/html": [
       "<div>\n",
       "<style scoped>\n",
       "    .dataframe tbody tr th:only-of-type {\n",
       "        vertical-align: middle;\n",
       "    }\n",
       "\n",
       "    .dataframe tbody tr th {\n",
       "        vertical-align: top;\n",
       "    }\n",
       "\n",
       "    .dataframe thead th {\n",
       "        text-align: right;\n",
       "    }\n",
       "</style>\n",
       "<table border=\"1\" class=\"dataframe\">\n",
       "  <thead>\n",
       "    <tr style=\"text-align: right;\">\n",
       "      <th></th>\n",
       "      <th>Salary</th>\n",
       "      <th>EngagementSurvey</th>\n",
       "      <th>EmpSatisfaction</th>\n",
       "      <th>SpecialProjectsCount</th>\n",
       "      <th>DaysLateLast30</th>\n",
       "      <th>Absences</th>\n",
       "      <th>PerfScoreID</th>\n",
       "      <th>cluster</th>\n",
       "    </tr>\n",
       "  </thead>\n",
       "  <tbody>\n",
       "    <tr>\n",
       "      <th>0</th>\n",
       "      <td>62506</td>\n",
       "      <td>4.60</td>\n",
       "      <td>5</td>\n",
       "      <td>0</td>\n",
       "      <td>0</td>\n",
       "      <td>1</td>\n",
       "      <td>4</td>\n",
       "      <td>2</td>\n",
       "    </tr>\n",
       "    <tr>\n",
       "      <th>1</th>\n",
       "      <td>104437</td>\n",
       "      <td>4.96</td>\n",
       "      <td>3</td>\n",
       "      <td>6</td>\n",
       "      <td>0</td>\n",
       "      <td>17</td>\n",
       "      <td>3</td>\n",
       "      <td>0</td>\n",
       "    </tr>\n",
       "    <tr>\n",
       "      <th>2</th>\n",
       "      <td>64955</td>\n",
       "      <td>3.02</td>\n",
       "      <td>3</td>\n",
       "      <td>0</td>\n",
       "      <td>0</td>\n",
       "      <td>3</td>\n",
       "      <td>3</td>\n",
       "      <td>0</td>\n",
       "    </tr>\n",
       "    <tr>\n",
       "      <th>3</th>\n",
       "      <td>64991</td>\n",
       "      <td>4.84</td>\n",
       "      <td>5</td>\n",
       "      <td>0</td>\n",
       "      <td>0</td>\n",
       "      <td>15</td>\n",
       "      <td>3</td>\n",
       "      <td>0</td>\n",
       "    </tr>\n",
       "    <tr>\n",
       "      <th>4</th>\n",
       "      <td>50825</td>\n",
       "      <td>5.00</td>\n",
       "      <td>4</td>\n",
       "      <td>0</td>\n",
       "      <td>0</td>\n",
       "      <td>2</td>\n",
       "      <td>3</td>\n",
       "      <td>4</td>\n",
       "    </tr>\n",
       "    <tr>\n",
       "      <th>5</th>\n",
       "      <td>57568</td>\n",
       "      <td>5.00</td>\n",
       "      <td>5</td>\n",
       "      <td>0</td>\n",
       "      <td>0</td>\n",
       "      <td>15</td>\n",
       "      <td>4</td>\n",
       "      <td>2</td>\n",
       "    </tr>\n",
       "    <tr>\n",
       "      <th>6</th>\n",
       "      <td>95660</td>\n",
       "      <td>3.04</td>\n",
       "      <td>3</td>\n",
       "      <td>4</td>\n",
       "      <td>0</td>\n",
       "      <td>19</td>\n",
       "      <td>3</td>\n",
       "      <td>2</td>\n",
       "    </tr>\n",
       "    <tr>\n",
       "      <th>7</th>\n",
       "      <td>59365</td>\n",
       "      <td>5.00</td>\n",
       "      <td>4</td>\n",
       "      <td>0</td>\n",
       "      <td>0</td>\n",
       "      <td>19</td>\n",
       "      <td>3</td>\n",
       "      <td>2</td>\n",
       "    </tr>\n",
       "    <tr>\n",
       "      <th>8</th>\n",
       "      <td>47837</td>\n",
       "      <td>4.46</td>\n",
       "      <td>3</td>\n",
       "      <td>0</td>\n",
       "      <td>0</td>\n",
       "      <td>4</td>\n",
       "      <td>3</td>\n",
       "      <td>6</td>\n",
       "    </tr>\n",
       "    <tr>\n",
       "      <th>9</th>\n",
       "      <td>50178</td>\n",
       "      <td>5.00</td>\n",
       "      <td>5</td>\n",
       "      <td>6</td>\n",
       "      <td>0</td>\n",
       "      <td>16</td>\n",
       "      <td>3</td>\n",
       "      <td>0</td>\n",
       "    </tr>\n",
       "    <tr>\n",
       "      <th>10</th>\n",
       "      <td>54670</td>\n",
       "      <td>4.20</td>\n",
       "      <td>4</td>\n",
       "      <td>0</td>\n",
       "      <td>0</td>\n",
       "      <td>12</td>\n",
       "      <td>3</td>\n",
       "      <td>0</td>\n",
       "    </tr>\n",
       "    <tr>\n",
       "      <th>11</th>\n",
       "      <td>47211</td>\n",
       "      <td>4.20</td>\n",
       "      <td>3</td>\n",
       "      <td>0</td>\n",
       "      <td>0</td>\n",
       "      <td>15</td>\n",
       "      <td>3</td>\n",
       "      <td>1</td>\n",
       "    </tr>\n",
       "    <tr>\n",
       "      <th>12</th>\n",
       "      <td>92328</td>\n",
       "      <td>4.28</td>\n",
       "      <td>4</td>\n",
       "      <td>5</td>\n",
       "      <td>0</td>\n",
       "      <td>9</td>\n",
       "      <td>4</td>\n",
       "      <td>0</td>\n",
       "    </tr>\n",
       "    <tr>\n",
       "      <th>13</th>\n",
       "      <td>58709</td>\n",
       "      <td>4.60</td>\n",
       "      <td>4</td>\n",
       "      <td>0</td>\n",
       "      <td>0</td>\n",
       "      <td>7</td>\n",
       "      <td>3</td>\n",
       "      <td>2</td>\n",
       "    </tr>\n",
       "    <tr>\n",
       "      <th>14</th>\n",
       "      <td>52505</td>\n",
       "      <td>5.00</td>\n",
       "      <td>5</td>\n",
       "      <td>0</td>\n",
       "      <td>0</td>\n",
       "      <td>1</td>\n",
       "      <td>3</td>\n",
       "      <td>0</td>\n",
       "    </tr>\n",
       "    <tr>\n",
       "      <th>15</th>\n",
       "      <td>57834</td>\n",
       "      <td>5.00</td>\n",
       "      <td>4</td>\n",
       "      <td>0</td>\n",
       "      <td>0</td>\n",
       "      <td>20</td>\n",
       "      <td>3</td>\n",
       "      <td>0</td>\n",
       "    </tr>\n",
       "  </tbody>\n",
       "</table>\n",
       "</div>"
      ],
      "text/plain": [
       "    Salary  EngagementSurvey  EmpSatisfaction  SpecialProjectsCount  \\\n",
       "0    62506              4.60                5                     0   \n",
       "1   104437              4.96                3                     6   \n",
       "2    64955              3.02                3                     0   \n",
       "3    64991              4.84                5                     0   \n",
       "4    50825              5.00                4                     0   \n",
       "5    57568              5.00                5                     0   \n",
       "6    95660              3.04                3                     4   \n",
       "7    59365              5.00                4                     0   \n",
       "8    47837              4.46                3                     0   \n",
       "9    50178              5.00                5                     6   \n",
       "10   54670              4.20                4                     0   \n",
       "11   47211              4.20                3                     0   \n",
       "12   92328              4.28                4                     5   \n",
       "13   58709              4.60                4                     0   \n",
       "14   52505              5.00                5                     0   \n",
       "15   57834              5.00                4                     0   \n",
       "\n",
       "    DaysLateLast30  Absences  PerfScoreID  cluster  \n",
       "0                0         1            4        2  \n",
       "1                0        17            3        0  \n",
       "2                0         3            3        0  \n",
       "3                0        15            3        0  \n",
       "4                0         2            3        4  \n",
       "5                0        15            4        2  \n",
       "6                0        19            3        2  \n",
       "7                0        19            3        2  \n",
       "8                0         4            3        6  \n",
       "9                0        16            3        0  \n",
       "10               0        12            3        0  \n",
       "11               0        15            3        1  \n",
       "12               0         9            4        0  \n",
       "13               0         7            3        2  \n",
       "14               0         1            3        0  \n",
       "15               0        20            3        0  "
      ]
     },
     "execution_count": 38,
     "metadata": {},
     "output_type": "execute_result"
    }
   ],
   "source": [
    "############################\n",
    "#Find anomaly employees (with respect to their domegraphic cluster) based on the following variables (together): \n",
    "#Salary, EngagementSurvey, EmpSatisfaction, SpecialProjectsCount, DaysLateLast30, Absences, PerfScoreID\n",
    "############################\n",
    "anomaly_data=pd.DataFrame(data,columns=anomaly_columns)\n",
    "anomaly_data.iloc[:16]"
   ]
  },
  {
   "cell_type": "code",
   "execution_count": 39,
   "id": "a00aa3b0",
   "metadata": {},
   "outputs": [
    {
     "name": "stdout",
     "output_type": "stream",
     "text": [
      "Completion: 14.2857% \t time: 0 m: 0 s\n",
      "Completion: 28.5714% \t time: 0 m: 0 s\n",
      "Completion: 42.8571% \t time: 0 m: 0 s\n",
      "Completion: 57.1429% \t time: 0 m: 0 s\n",
      "Completion: 71.4286% \t time: 0 m: 0 s\n",
      "Completion: 85.7143% \t time: 0 m: 0 s\n",
      "Completion: 100.0000% \t time: 0 m: 0 s\n"
     ]
    }
   ],
   "source": [
    "all_clusters=list(set(data[\"cluster\"]))\n",
    "n_clusters=len(all_clusters)\n",
    "anomaly_employees=[]\n",
    "anomaly_idx=[]\n",
    "printing_iter=10**(0)\n",
    "counter=0\n",
    "since=time.time()\n",
    "\n",
    "for cluster in all_clusters:\n",
    "    temp=anomaly_data[anomaly_data[\"cluster\"]==cluster]\n",
    "    temp=temp.drop([\"cluster\"],axis=1)\n",
    "    if_model=IsolationForest(random_state=seed,contamination=1-quantile,n_estimators=n_trees,max_samples=\"auto\")\n",
    "    if_fit=if_model.fit(temp)\n",
    "    if_pred=if_model.predict(temp)\n",
    "    temp[\"predictions\"]=list(map(lambda x: 1*(x==-1),if_pred))\n",
    "    idx=[i for i,x in enumerate(temp[\"predictions\"]) if x==1]\n",
    "    anomaly_employees.extend(data[\"Employee_Name\"].iloc[idx])\n",
    "    anomaly_idx.extend(idx)\n",
    "    counter+=1\n",
    "    if counter%printing_iter==0:\n",
    "        print(\"Completion: %.4f%% \\t time: %s\"%(100*counter/n_clusters,timming(since)))"
   ]
  },
  {
   "cell_type": "code",
   "execution_count": 40,
   "id": "417ce4f9",
   "metadata": {},
   "outputs": [
    {
     "name": "stdout",
     "output_type": "stream",
     "text": [
      "['Buccheri, Joseph  ', 'Billis, Helen', 'Brill, Donna', 'Akinkuolie, Sarah', 'DeGweck,  James', 'Beatrice, Courtney ', 'Boutwell, Bonalyn', 'Cady, Max ', 'Alagbe,Trina', 'Andreola, Colby', 'Brown, Mia', 'Clukey, Elijian', 'Barbara, Thomas', 'Bates, Norman', 'Chigurh, Anton', 'Champaigne, Brian', 'Bacong, Alejandro ']\n",
      "[65, 2, 35, 3, 6, 9, 42, 11, 45, 15, 17, 51, 22, 26, 28, 29, 30]\n"
     ]
    }
   ],
   "source": [
    "anomaly_employees=list(set(anomaly_employees))\n",
    "anomaly_idx=list(set(anomaly_idx))\n",
    "print(anomaly_employees)\n",
    "print(anomaly_idx)"
   ]
  },
  {
   "cell_type": "code",
   "execution_count": 41,
   "id": "4033427a",
   "metadata": {},
   "outputs": [
    {
     "data": {
      "text/html": [
       "<div>\n",
       "<style scoped>\n",
       "    .dataframe tbody tr th:only-of-type {\n",
       "        vertical-align: middle;\n",
       "    }\n",
       "\n",
       "    .dataframe tbody tr th {\n",
       "        vertical-align: top;\n",
       "    }\n",
       "\n",
       "    .dataframe thead th {\n",
       "        text-align: right;\n",
       "    }\n",
       "</style>\n",
       "<table border=\"1\" class=\"dataframe\">\n",
       "  <thead>\n",
       "    <tr style=\"text-align: right;\">\n",
       "      <th></th>\n",
       "      <th>Employee_Name</th>\n",
       "      <th>EmpID</th>\n",
       "      <th>PerfScoreID</th>\n",
       "      <th>FromDiversityJobFairID</th>\n",
       "      <th>Salary</th>\n",
       "      <th>Termd</th>\n",
       "      <th>Position</th>\n",
       "      <th>State</th>\n",
       "      <th>Zip</th>\n",
       "      <th>DOB</th>\n",
       "      <th>...</th>\n",
       "      <th>StateID</th>\n",
       "      <th>Age</th>\n",
       "      <th>SexID</th>\n",
       "      <th>MaritalDescID</th>\n",
       "      <th>CitizenDescID</th>\n",
       "      <th>HispanicLatinoID</th>\n",
       "      <th>RaceDescID</th>\n",
       "      <th>YearsHired</th>\n",
       "      <th>YearsTerminated</th>\n",
       "      <th>cluster</th>\n",
       "    </tr>\n",
       "  </thead>\n",
       "  <tbody>\n",
       "    <tr>\n",
       "      <th>65</th>\n",
       "      <td>DeGweck,  James</td>\n",
       "      <td>10070</td>\n",
       "      <td>3</td>\n",
       "      <td>0</td>\n",
       "      <td>55722</td>\n",
       "      <td>1</td>\n",
       "      <td>Production Technician I</td>\n",
       "      <td>MA</td>\n",
       "      <td>1810</td>\n",
       "      <td>10/31/77</td>\n",
       "      <td>...</td>\n",
       "      <td>16</td>\n",
       "      <td>45</td>\n",
       "      <td>0</td>\n",
       "      <td>0</td>\n",
       "      <td>2</td>\n",
       "      <td>1</td>\n",
       "      <td>5</td>\n",
       "      <td>11</td>\n",
       "      <td>6</td>\n",
       "      <td>0</td>\n",
       "    </tr>\n",
       "    <tr>\n",
       "      <th>2</th>\n",
       "      <td>Akinkuolie, Sarah</td>\n",
       "      <td>10196</td>\n",
       "      <td>3</td>\n",
       "      <td>0</td>\n",
       "      <td>64955</td>\n",
       "      <td>1</td>\n",
       "      <td>Production Technician II</td>\n",
       "      <td>MA</td>\n",
       "      <td>1810</td>\n",
       "      <td>09/19/88</td>\n",
       "      <td>...</td>\n",
       "      <td>16</td>\n",
       "      <td>34</td>\n",
       "      <td>1</td>\n",
       "      <td>0</td>\n",
       "      <td>2</td>\n",
       "      <td>1</td>\n",
       "      <td>5</td>\n",
       "      <td>11</td>\n",
       "      <td>10</td>\n",
       "      <td>0</td>\n",
       "    </tr>\n",
       "    <tr>\n",
       "      <th>35</th>\n",
       "      <td>Cady, Max</td>\n",
       "      <td>10150</td>\n",
       "      <td>3</td>\n",
       "      <td>0</td>\n",
       "      <td>77692</td>\n",
       "      <td>0</td>\n",
       "      <td>Software Engineering Manager</td>\n",
       "      <td>MA</td>\n",
       "      <td>2184</td>\n",
       "      <td>11/22/66</td>\n",
       "      <td>...</td>\n",
       "      <td>16</td>\n",
       "      <td>56</td>\n",
       "      <td>0</td>\n",
       "      <td>1</td>\n",
       "      <td>2</td>\n",
       "      <td>1</td>\n",
       "      <td>5</td>\n",
       "      <td>11</td>\n",
       "      <td>0</td>\n",
       "      <td>0</td>\n",
       "    </tr>\n",
       "    <tr>\n",
       "      <th>3</th>\n",
       "      <td>Alagbe,Trina</td>\n",
       "      <td>10088</td>\n",
       "      <td>3</td>\n",
       "      <td>0</td>\n",
       "      <td>64991</td>\n",
       "      <td>0</td>\n",
       "      <td>Production Technician I</td>\n",
       "      <td>MA</td>\n",
       "      <td>1886</td>\n",
       "      <td>09/27/88</td>\n",
       "      <td>...</td>\n",
       "      <td>16</td>\n",
       "      <td>34</td>\n",
       "      <td>1</td>\n",
       "      <td>0</td>\n",
       "      <td>2</td>\n",
       "      <td>1</td>\n",
       "      <td>5</td>\n",
       "      <td>14</td>\n",
       "      <td>0</td>\n",
       "      <td>0</td>\n",
       "    </tr>\n",
       "    <tr>\n",
       "      <th>6</th>\n",
       "      <td>Andreola, Colby</td>\n",
       "      <td>10194</td>\n",
       "      <td>3</td>\n",
       "      <td>0</td>\n",
       "      <td>95660</td>\n",
       "      <td>0</td>\n",
       "      <td>Software Engineer</td>\n",
       "      <td>MA</td>\n",
       "      <td>2110</td>\n",
       "      <td>05/24/79</td>\n",
       "      <td>...</td>\n",
       "      <td>16</td>\n",
       "      <td>43</td>\n",
       "      <td>1</td>\n",
       "      <td>1</td>\n",
       "      <td>2</td>\n",
       "      <td>1</td>\n",
       "      <td>5</td>\n",
       "      <td>8</td>\n",
       "      <td>0</td>\n",
       "      <td>2</td>\n",
       "    </tr>\n",
       "    <tr>\n",
       "      <th>9</th>\n",
       "      <td>Bacong, Alejandro</td>\n",
       "      <td>10250</td>\n",
       "      <td>3</td>\n",
       "      <td>0</td>\n",
       "      <td>50178</td>\n",
       "      <td>0</td>\n",
       "      <td>IT Support</td>\n",
       "      <td>MA</td>\n",
       "      <td>1886</td>\n",
       "      <td>01/07/88</td>\n",
       "      <td>...</td>\n",
       "      <td>16</td>\n",
       "      <td>34</td>\n",
       "      <td>0</td>\n",
       "      <td>2</td>\n",
       "      <td>2</td>\n",
       "      <td>1</td>\n",
       "      <td>5</td>\n",
       "      <td>7</td>\n",
       "      <td>0</td>\n",
       "      <td>0</td>\n",
       "    </tr>\n",
       "    <tr>\n",
       "      <th>42</th>\n",
       "      <td>Champaigne, Brian</td>\n",
       "      <td>10108</td>\n",
       "      <td>3</td>\n",
       "      <td>0</td>\n",
       "      <td>110929</td>\n",
       "      <td>0</td>\n",
       "      <td>BI Director</td>\n",
       "      <td>MA</td>\n",
       "      <td>2045</td>\n",
       "      <td>02/09/72</td>\n",
       "      <td>...</td>\n",
       "      <td>16</td>\n",
       "      <td>50</td>\n",
       "      <td>0</td>\n",
       "      <td>0</td>\n",
       "      <td>2</td>\n",
       "      <td>1</td>\n",
       "      <td>5</td>\n",
       "      <td>6</td>\n",
       "      <td>0</td>\n",
       "      <td>0</td>\n",
       "    </tr>\n",
       "    <tr>\n",
       "      <th>11</th>\n",
       "      <td>Barbara, Thomas</td>\n",
       "      <td>10242</td>\n",
       "      <td>3</td>\n",
       "      <td>1</td>\n",
       "      <td>47211</td>\n",
       "      <td>1</td>\n",
       "      <td>Production Technician I</td>\n",
       "      <td>MA</td>\n",
       "      <td>2062</td>\n",
       "      <td>02/21/74</td>\n",
       "      <td>...</td>\n",
       "      <td>16</td>\n",
       "      <td>48</td>\n",
       "      <td>0</td>\n",
       "      <td>0</td>\n",
       "      <td>2</td>\n",
       "      <td>0</td>\n",
       "      <td>4</td>\n",
       "      <td>10</td>\n",
       "      <td>6</td>\n",
       "      <td>1</td>\n",
       "    </tr>\n",
       "    <tr>\n",
       "      <th>45</th>\n",
       "      <td>Chigurh, Anton</td>\n",
       "      <td>10200</td>\n",
       "      <td>3</td>\n",
       "      <td>0</td>\n",
       "      <td>66808</td>\n",
       "      <td>0</td>\n",
       "      <td>Area Sales Manager</td>\n",
       "      <td>TX</td>\n",
       "      <td>78207</td>\n",
       "      <td>06/11/70</td>\n",
       "      <td>...</td>\n",
       "      <td>7</td>\n",
       "      <td>52</td>\n",
       "      <td>0</td>\n",
       "      <td>1</td>\n",
       "      <td>1</td>\n",
       "      <td>1</td>\n",
       "      <td>4</td>\n",
       "      <td>10</td>\n",
       "      <td>0</td>\n",
       "      <td>1</td>\n",
       "    </tr>\n",
       "    <tr>\n",
       "      <th>15</th>\n",
       "      <td>Bates, Norman</td>\n",
       "      <td>10061</td>\n",
       "      <td>3</td>\n",
       "      <td>0</td>\n",
       "      <td>57834</td>\n",
       "      <td>1</td>\n",
       "      <td>Production Technician I</td>\n",
       "      <td>MA</td>\n",
       "      <td>2050</td>\n",
       "      <td>10/18/81</td>\n",
       "      <td>...</td>\n",
       "      <td>16</td>\n",
       "      <td>41</td>\n",
       "      <td>0</td>\n",
       "      <td>1</td>\n",
       "      <td>2</td>\n",
       "      <td>1</td>\n",
       "      <td>5</td>\n",
       "      <td>11</td>\n",
       "      <td>5</td>\n",
       "      <td>0</td>\n",
       "    </tr>\n",
       "    <tr>\n",
       "      <th>17</th>\n",
       "      <td>Beatrice, Courtney</td>\n",
       "      <td>10055</td>\n",
       "      <td>3</td>\n",
       "      <td>0</td>\n",
       "      <td>59026</td>\n",
       "      <td>0</td>\n",
       "      <td>Production Technician I</td>\n",
       "      <td>MA</td>\n",
       "      <td>1915</td>\n",
       "      <td>10/27/70</td>\n",
       "      <td>...</td>\n",
       "      <td>16</td>\n",
       "      <td>52</td>\n",
       "      <td>1</td>\n",
       "      <td>1</td>\n",
       "      <td>1</td>\n",
       "      <td>1</td>\n",
       "      <td>5</td>\n",
       "      <td>11</td>\n",
       "      <td>0</td>\n",
       "      <td>4</td>\n",
       "    </tr>\n",
       "    <tr>\n",
       "      <th>51</th>\n",
       "      <td>Clukey, Elijian</td>\n",
       "      <td>10029</td>\n",
       "      <td>4</td>\n",
       "      <td>0</td>\n",
       "      <td>50373</td>\n",
       "      <td>0</td>\n",
       "      <td>Production Technician I</td>\n",
       "      <td>MA</td>\n",
       "      <td>2134</td>\n",
       "      <td>08/26/80</td>\n",
       "      <td>...</td>\n",
       "      <td>16</td>\n",
       "      <td>42</td>\n",
       "      <td>0</td>\n",
       "      <td>0</td>\n",
       "      <td>2</td>\n",
       "      <td>1</td>\n",
       "      <td>5</td>\n",
       "      <td>6</td>\n",
       "      <td>0</td>\n",
       "      <td>0</td>\n",
       "    </tr>\n",
       "    <tr>\n",
       "      <th>22</th>\n",
       "      <td>Billis, Helen</td>\n",
       "      <td>10003</td>\n",
       "      <td>4</td>\n",
       "      <td>0</td>\n",
       "      <td>62910</td>\n",
       "      <td>0</td>\n",
       "      <td>Production Technician I</td>\n",
       "      <td>MA</td>\n",
       "      <td>2031</td>\n",
       "      <td>09/01/89</td>\n",
       "      <td>...</td>\n",
       "      <td>16</td>\n",
       "      <td>33</td>\n",
       "      <td>1</td>\n",
       "      <td>0</td>\n",
       "      <td>2</td>\n",
       "      <td>1</td>\n",
       "      <td>5</td>\n",
       "      <td>8</td>\n",
       "      <td>0</td>\n",
       "      <td>3</td>\n",
       "    </tr>\n",
       "    <tr>\n",
       "      <th>26</th>\n",
       "      <td>Boutwell, Bonalyn</td>\n",
       "      <td>10081</td>\n",
       "      <td>3</td>\n",
       "      <td>1</td>\n",
       "      <td>106367</td>\n",
       "      <td>0</td>\n",
       "      <td>Sr. Accountant</td>\n",
       "      <td>MA</td>\n",
       "      <td>2468</td>\n",
       "      <td>04/04/87</td>\n",
       "      <td>...</td>\n",
       "      <td>16</td>\n",
       "      <td>35</td>\n",
       "      <td>1</td>\n",
       "      <td>0</td>\n",
       "      <td>2</td>\n",
       "      <td>1</td>\n",
       "      <td>4</td>\n",
       "      <td>7</td>\n",
       "      <td>0</td>\n",
       "      <td>3</td>\n",
       "    </tr>\n",
       "    <tr>\n",
       "      <th>28</th>\n",
       "      <td>Brill, Donna</td>\n",
       "      <td>10177</td>\n",
       "      <td>3</td>\n",
       "      <td>0</td>\n",
       "      <td>53492</td>\n",
       "      <td>1</td>\n",
       "      <td>Production Technician I</td>\n",
       "      <td>MA</td>\n",
       "      <td>1701</td>\n",
       "      <td>08/24/90</td>\n",
       "      <td>...</td>\n",
       "      <td>16</td>\n",
       "      <td>32</td>\n",
       "      <td>1</td>\n",
       "      <td>0</td>\n",
       "      <td>2</td>\n",
       "      <td>1</td>\n",
       "      <td>5</td>\n",
       "      <td>10</td>\n",
       "      <td>9</td>\n",
       "      <td>3</td>\n",
       "    </tr>\n",
       "    <tr>\n",
       "      <th>29</th>\n",
       "      <td>Brown, Mia</td>\n",
       "      <td>10238</td>\n",
       "      <td>3</td>\n",
       "      <td>1</td>\n",
       "      <td>63000</td>\n",
       "      <td>0</td>\n",
       "      <td>Accountant I</td>\n",
       "      <td>MA</td>\n",
       "      <td>1450</td>\n",
       "      <td>11/24/87</td>\n",
       "      <td>...</td>\n",
       "      <td>16</td>\n",
       "      <td>35</td>\n",
       "      <td>1</td>\n",
       "      <td>0</td>\n",
       "      <td>2</td>\n",
       "      <td>1</td>\n",
       "      <td>4</td>\n",
       "      <td>14</td>\n",
       "      <td>0</td>\n",
       "      <td>6</td>\n",
       "    </tr>\n",
       "    <tr>\n",
       "      <th>30</th>\n",
       "      <td>Buccheri, Joseph</td>\n",
       "      <td>10184</td>\n",
       "      <td>3</td>\n",
       "      <td>0</td>\n",
       "      <td>65288</td>\n",
       "      <td>0</td>\n",
       "      <td>Production Technician II</td>\n",
       "      <td>MA</td>\n",
       "      <td>1013</td>\n",
       "      <td>07/28/83</td>\n",
       "      <td>...</td>\n",
       "      <td>16</td>\n",
       "      <td>39</td>\n",
       "      <td>0</td>\n",
       "      <td>1</td>\n",
       "      <td>2</td>\n",
       "      <td>1</td>\n",
       "      <td>5</td>\n",
       "      <td>8</td>\n",
       "      <td>0</td>\n",
       "      <td>2</td>\n",
       "    </tr>\n",
       "  </tbody>\n",
       "</table>\n",
       "<p>17 rows × 39 columns</p>\n",
       "</div>"
      ],
      "text/plain": [
       "          Employee_Name  EmpID  PerfScoreID  FromDiversityJobFairID  Salary  \\\n",
       "65      DeGweck,  James  10070            3                       0   55722   \n",
       "2     Akinkuolie, Sarah  10196            3                       0   64955   \n",
       "35           Cady, Max   10150            3                       0   77692   \n",
       "3          Alagbe,Trina  10088            3                       0   64991   \n",
       "6       Andreola, Colby  10194            3                       0   95660   \n",
       "9    Bacong, Alejandro   10250            3                       0   50178   \n",
       "42    Champaigne, Brian  10108            3                       0  110929   \n",
       "11      Barbara, Thomas  10242            3                       1   47211   \n",
       "45       Chigurh, Anton  10200            3                       0   66808   \n",
       "15        Bates, Norman  10061            3                       0   57834   \n",
       "17  Beatrice, Courtney   10055            3                       0   59026   \n",
       "51      Clukey, Elijian  10029            4                       0   50373   \n",
       "22        Billis, Helen  10003            4                       0   62910   \n",
       "26    Boutwell, Bonalyn  10081            3                       1  106367   \n",
       "28         Brill, Donna  10177            3                       0   53492   \n",
       "29           Brown, Mia  10238            3                       1   63000   \n",
       "30   Buccheri, Joseph    10184            3                       0   65288   \n",
       "\n",
       "    Termd                      Position State    Zip       DOB  ... StateID  \\\n",
       "65      1       Production Technician I    MA   1810  10/31/77  ...      16   \n",
       "2       1      Production Technician II    MA   1810  09/19/88  ...      16   \n",
       "35      0  Software Engineering Manager    MA   2184  11/22/66  ...      16   \n",
       "3       0       Production Technician I    MA   1886  09/27/88  ...      16   \n",
       "6       0             Software Engineer    MA   2110  05/24/79  ...      16   \n",
       "9       0                    IT Support    MA   1886  01/07/88  ...      16   \n",
       "42      0                   BI Director    MA   2045  02/09/72  ...      16   \n",
       "11      1       Production Technician I    MA   2062  02/21/74  ...      16   \n",
       "45      0            Area Sales Manager    TX  78207  06/11/70  ...       7   \n",
       "15      1       Production Technician I    MA   2050  10/18/81  ...      16   \n",
       "17      0       Production Technician I    MA   1915  10/27/70  ...      16   \n",
       "51      0       Production Technician I    MA   2134  08/26/80  ...      16   \n",
       "22      0       Production Technician I    MA   2031  09/01/89  ...      16   \n",
       "26      0                Sr. Accountant    MA   2468  04/04/87  ...      16   \n",
       "28      1       Production Technician I    MA   1701  08/24/90  ...      16   \n",
       "29      0                  Accountant I    MA   1450  11/24/87  ...      16   \n",
       "30      0      Production Technician II    MA   1013  07/28/83  ...      16   \n",
       "\n",
       "   Age SexID MaritalDescID CitizenDescID HispanicLatinoID RaceDescID  \\\n",
       "65  45     0             0             2                1          5   \n",
       "2   34     1             0             2                1          5   \n",
       "35  56     0             1             2                1          5   \n",
       "3   34     1             0             2                1          5   \n",
       "6   43     1             1             2                1          5   \n",
       "9   34     0             2             2                1          5   \n",
       "42  50     0             0             2                1          5   \n",
       "11  48     0             0             2                0          4   \n",
       "45  52     0             1             1                1          4   \n",
       "15  41     0             1             2                1          5   \n",
       "17  52     1             1             1                1          5   \n",
       "51  42     0             0             2                1          5   \n",
       "22  33     1             0             2                1          5   \n",
       "26  35     1             0             2                1          4   \n",
       "28  32     1             0             2                1          5   \n",
       "29  35     1             0             2                1          4   \n",
       "30  39     0             1             2                1          5   \n",
       "\n",
       "   YearsHired YearsTerminated cluster  \n",
       "65         11               6       0  \n",
       "2          11              10       0  \n",
       "35         11               0       0  \n",
       "3          14               0       0  \n",
       "6           8               0       2  \n",
       "9           7               0       0  \n",
       "42          6               0       0  \n",
       "11         10               6       1  \n",
       "45         10               0       1  \n",
       "15         11               5       0  \n",
       "17         11               0       4  \n",
       "51          6               0       0  \n",
       "22          8               0       3  \n",
       "26          7               0       3  \n",
       "28         10               9       3  \n",
       "29         14               0       6  \n",
       "30          8               0       2  \n",
       "\n",
       "[17 rows x 39 columns]"
      ]
     },
     "execution_count": 41,
     "metadata": {},
     "output_type": "execute_result"
    }
   ],
   "source": [
    "anomaly_employees_data=data.iloc[anomaly_idx]\n",
    "anomaly_employees_data"
   ]
  },
  {
   "cell_type": "code",
   "execution_count": 42,
   "id": "44323578",
   "metadata": {},
   "outputs": [
    {
     "data": {
      "text/html": [
       "<div>\n",
       "<style scoped>\n",
       "    .dataframe tbody tr th:only-of-type {\n",
       "        vertical-align: middle;\n",
       "    }\n",
       "\n",
       "    .dataframe tbody tr th {\n",
       "        vertical-align: top;\n",
       "    }\n",
       "\n",
       "    .dataframe thead th {\n",
       "        text-align: right;\n",
       "    }\n",
       "</style>\n",
       "<table border=\"1\" class=\"dataframe\">\n",
       "  <thead>\n",
       "    <tr style=\"text-align: right;\">\n",
       "      <th></th>\n",
       "      <th>Employee_Name</th>\n",
       "      <th>Salary</th>\n",
       "      <th>HispanicLatino</th>\n",
       "      <th>RaceDesc</th>\n",
       "      <th>ManagerName</th>\n",
       "      <th>PerformanceScore</th>\n",
       "      <th>EngagementSurvey</th>\n",
       "      <th>EmpSatisfaction</th>\n",
       "      <th>SpecialProjectsCount</th>\n",
       "      <th>DaysLateLast30</th>\n",
       "      <th>Absences</th>\n",
       "      <th>cluster</th>\n",
       "    </tr>\n",
       "  </thead>\n",
       "  <tbody>\n",
       "    <tr>\n",
       "      <th>65</th>\n",
       "      <td>DeGweck,  James</td>\n",
       "      <td>55722</td>\n",
       "      <td>No</td>\n",
       "      <td>White</td>\n",
       "      <td>Webster Butler</td>\n",
       "      <td>Fully Meets</td>\n",
       "      <td>5.00</td>\n",
       "      <td>4</td>\n",
       "      <td>0</td>\n",
       "      <td>0</td>\n",
       "      <td>14</td>\n",
       "      <td>0</td>\n",
       "    </tr>\n",
       "    <tr>\n",
       "      <th>2</th>\n",
       "      <td>Akinkuolie, Sarah</td>\n",
       "      <td>64955</td>\n",
       "      <td>No</td>\n",
       "      <td>White</td>\n",
       "      <td>Kissy Sullivan</td>\n",
       "      <td>Fully Meets</td>\n",
       "      <td>3.02</td>\n",
       "      <td>3</td>\n",
       "      <td>0</td>\n",
       "      <td>0</td>\n",
       "      <td>3</td>\n",
       "      <td>0</td>\n",
       "    </tr>\n",
       "    <tr>\n",
       "      <th>35</th>\n",
       "      <td>Cady, Max</td>\n",
       "      <td>77692</td>\n",
       "      <td>No</td>\n",
       "      <td>White</td>\n",
       "      <td>Jennifer Zamora</td>\n",
       "      <td>Fully Meets</td>\n",
       "      <td>3.84</td>\n",
       "      <td>3</td>\n",
       "      <td>5</td>\n",
       "      <td>0</td>\n",
       "      <td>4</td>\n",
       "      <td>0</td>\n",
       "    </tr>\n",
       "    <tr>\n",
       "      <th>3</th>\n",
       "      <td>Alagbe,Trina</td>\n",
       "      <td>64991</td>\n",
       "      <td>No</td>\n",
       "      <td>White</td>\n",
       "      <td>Elijiah Gray</td>\n",
       "      <td>Fully Meets</td>\n",
       "      <td>4.84</td>\n",
       "      <td>5</td>\n",
       "      <td>0</td>\n",
       "      <td>0</td>\n",
       "      <td>15</td>\n",
       "      <td>0</td>\n",
       "    </tr>\n",
       "    <tr>\n",
       "      <th>6</th>\n",
       "      <td>Andreola, Colby</td>\n",
       "      <td>95660</td>\n",
       "      <td>No</td>\n",
       "      <td>White</td>\n",
       "      <td>Alex Sweetwater</td>\n",
       "      <td>Fully Meets</td>\n",
       "      <td>3.04</td>\n",
       "      <td>3</td>\n",
       "      <td>4</td>\n",
       "      <td>0</td>\n",
       "      <td>19</td>\n",
       "      <td>2</td>\n",
       "    </tr>\n",
       "    <tr>\n",
       "      <th>9</th>\n",
       "      <td>Bacong, Alejandro</td>\n",
       "      <td>50178</td>\n",
       "      <td>No</td>\n",
       "      <td>White</td>\n",
       "      <td>Peter Monroe</td>\n",
       "      <td>Fully Meets</td>\n",
       "      <td>5.00</td>\n",
       "      <td>5</td>\n",
       "      <td>6</td>\n",
       "      <td>0</td>\n",
       "      <td>16</td>\n",
       "      <td>0</td>\n",
       "    </tr>\n",
       "    <tr>\n",
       "      <th>42</th>\n",
       "      <td>Champaigne, Brian</td>\n",
       "      <td>110929</td>\n",
       "      <td>No</td>\n",
       "      <td>White</td>\n",
       "      <td>Jennifer Zamora</td>\n",
       "      <td>Fully Meets</td>\n",
       "      <td>4.50</td>\n",
       "      <td>5</td>\n",
       "      <td>7</td>\n",
       "      <td>0</td>\n",
       "      <td>8</td>\n",
       "      <td>0</td>\n",
       "    </tr>\n",
       "    <tr>\n",
       "      <th>11</th>\n",
       "      <td>Barbara, Thomas</td>\n",
       "      <td>47211</td>\n",
       "      <td>Yes</td>\n",
       "      <td>Black or African American</td>\n",
       "      <td>Kissy Sullivan</td>\n",
       "      <td>Fully Meets</td>\n",
       "      <td>4.20</td>\n",
       "      <td>3</td>\n",
       "      <td>0</td>\n",
       "      <td>0</td>\n",
       "      <td>15</td>\n",
       "      <td>1</td>\n",
       "    </tr>\n",
       "    <tr>\n",
       "      <th>45</th>\n",
       "      <td>Chigurh, Anton</td>\n",
       "      <td>66808</td>\n",
       "      <td>No</td>\n",
       "      <td>Black or African American</td>\n",
       "      <td>Lynn Daneault</td>\n",
       "      <td>Fully Meets</td>\n",
       "      <td>3.00</td>\n",
       "      <td>5</td>\n",
       "      <td>0</td>\n",
       "      <td>0</td>\n",
       "      <td>17</td>\n",
       "      <td>1</td>\n",
       "    </tr>\n",
       "    <tr>\n",
       "      <th>15</th>\n",
       "      <td>Bates, Norman</td>\n",
       "      <td>57834</td>\n",
       "      <td>No</td>\n",
       "      <td>White</td>\n",
       "      <td>Kelley Spirea</td>\n",
       "      <td>Fully Meets</td>\n",
       "      <td>5.00</td>\n",
       "      <td>4</td>\n",
       "      <td>0</td>\n",
       "      <td>0</td>\n",
       "      <td>20</td>\n",
       "      <td>0</td>\n",
       "    </tr>\n",
       "    <tr>\n",
       "      <th>17</th>\n",
       "      <td>Beatrice, Courtney</td>\n",
       "      <td>59026</td>\n",
       "      <td>No</td>\n",
       "      <td>White</td>\n",
       "      <td>Elijiah Gray</td>\n",
       "      <td>Fully Meets</td>\n",
       "      <td>5.00</td>\n",
       "      <td>5</td>\n",
       "      <td>0</td>\n",
       "      <td>0</td>\n",
       "      <td>12</td>\n",
       "      <td>4</td>\n",
       "    </tr>\n",
       "    <tr>\n",
       "      <th>51</th>\n",
       "      <td>Clukey, Elijian</td>\n",
       "      <td>50373</td>\n",
       "      <td>No</td>\n",
       "      <td>White</td>\n",
       "      <td>Brannon Miller</td>\n",
       "      <td>Exceeds</td>\n",
       "      <td>4.10</td>\n",
       "      <td>4</td>\n",
       "      <td>0</td>\n",
       "      <td>0</td>\n",
       "      <td>5</td>\n",
       "      <td>0</td>\n",
       "    </tr>\n",
       "    <tr>\n",
       "      <th>22</th>\n",
       "      <td>Billis, Helen</td>\n",
       "      <td>62910</td>\n",
       "      <td>No</td>\n",
       "      <td>White</td>\n",
       "      <td>Brannon Miller</td>\n",
       "      <td>Exceeds</td>\n",
       "      <td>5.00</td>\n",
       "      <td>3</td>\n",
       "      <td>0</td>\n",
       "      <td>0</td>\n",
       "      <td>19</td>\n",
       "      <td>3</td>\n",
       "    </tr>\n",
       "    <tr>\n",
       "      <th>26</th>\n",
       "      <td>Boutwell, Bonalyn</td>\n",
       "      <td>106367</td>\n",
       "      <td>No</td>\n",
       "      <td>Black or African American</td>\n",
       "      <td>Brandon R. LeBlanc</td>\n",
       "      <td>Fully Meets</td>\n",
       "      <td>5.00</td>\n",
       "      <td>4</td>\n",
       "      <td>3</td>\n",
       "      <td>0</td>\n",
       "      <td>4</td>\n",
       "      <td>3</td>\n",
       "    </tr>\n",
       "    <tr>\n",
       "      <th>28</th>\n",
       "      <td>Brill, Donna</td>\n",
       "      <td>53492</td>\n",
       "      <td>No</td>\n",
       "      <td>White</td>\n",
       "      <td>David Stanley</td>\n",
       "      <td>Fully Meets</td>\n",
       "      <td>3.35</td>\n",
       "      <td>4</td>\n",
       "      <td>0</td>\n",
       "      <td>0</td>\n",
       "      <td>6</td>\n",
       "      <td>3</td>\n",
       "    </tr>\n",
       "    <tr>\n",
       "      <th>29</th>\n",
       "      <td>Brown, Mia</td>\n",
       "      <td>63000</td>\n",
       "      <td>No</td>\n",
       "      <td>Black or African American</td>\n",
       "      <td>Brandon R. LeBlanc</td>\n",
       "      <td>Fully Meets</td>\n",
       "      <td>4.50</td>\n",
       "      <td>2</td>\n",
       "      <td>6</td>\n",
       "      <td>0</td>\n",
       "      <td>14</td>\n",
       "      <td>6</td>\n",
       "    </tr>\n",
       "    <tr>\n",
       "      <th>30</th>\n",
       "      <td>Buccheri, Joseph</td>\n",
       "      <td>65288</td>\n",
       "      <td>No</td>\n",
       "      <td>White</td>\n",
       "      <td>Webster Butler</td>\n",
       "      <td>Fully Meets</td>\n",
       "      <td>3.19</td>\n",
       "      <td>3</td>\n",
       "      <td>0</td>\n",
       "      <td>0</td>\n",
       "      <td>9</td>\n",
       "      <td>2</td>\n",
       "    </tr>\n",
       "  </tbody>\n",
       "</table>\n",
       "</div>"
      ],
      "text/plain": [
       "          Employee_Name  Salary HispanicLatino                   RaceDesc  \\\n",
       "65      DeGweck,  James   55722             No                      White   \n",
       "2     Akinkuolie, Sarah   64955             No                      White   \n",
       "35           Cady, Max    77692             No                      White   \n",
       "3          Alagbe,Trina   64991             No                      White   \n",
       "6       Andreola, Colby   95660             No                      White   \n",
       "9    Bacong, Alejandro    50178             No                      White   \n",
       "42    Champaigne, Brian  110929             No                      White   \n",
       "11      Barbara, Thomas   47211            Yes  Black or African American   \n",
       "45       Chigurh, Anton   66808             No  Black or African American   \n",
       "15        Bates, Norman   57834             No                      White   \n",
       "17  Beatrice, Courtney    59026             No                      White   \n",
       "51      Clukey, Elijian   50373             No                      White   \n",
       "22        Billis, Helen   62910             No                      White   \n",
       "26    Boutwell, Bonalyn  106367             No  Black or African American   \n",
       "28         Brill, Donna   53492             No                      White   \n",
       "29           Brown, Mia   63000             No  Black or African American   \n",
       "30   Buccheri, Joseph     65288             No                      White   \n",
       "\n",
       "           ManagerName PerformanceScore  EngagementSurvey  EmpSatisfaction  \\\n",
       "65      Webster Butler      Fully Meets              5.00                4   \n",
       "2       Kissy Sullivan      Fully Meets              3.02                3   \n",
       "35     Jennifer Zamora      Fully Meets              3.84                3   \n",
       "3         Elijiah Gray      Fully Meets              4.84                5   \n",
       "6      Alex Sweetwater      Fully Meets              3.04                3   \n",
       "9         Peter Monroe      Fully Meets              5.00                5   \n",
       "42     Jennifer Zamora      Fully Meets              4.50                5   \n",
       "11      Kissy Sullivan      Fully Meets              4.20                3   \n",
       "45       Lynn Daneault      Fully Meets              3.00                5   \n",
       "15       Kelley Spirea      Fully Meets              5.00                4   \n",
       "17        Elijiah Gray      Fully Meets              5.00                5   \n",
       "51      Brannon Miller          Exceeds              4.10                4   \n",
       "22      Brannon Miller          Exceeds              5.00                3   \n",
       "26  Brandon R. LeBlanc      Fully Meets              5.00                4   \n",
       "28       David Stanley      Fully Meets              3.35                4   \n",
       "29  Brandon R. LeBlanc      Fully Meets              4.50                2   \n",
       "30      Webster Butler      Fully Meets              3.19                3   \n",
       "\n",
       "    SpecialProjectsCount  DaysLateLast30  Absences  cluster  \n",
       "65                     0               0        14        0  \n",
       "2                      0               0         3        0  \n",
       "35                     5               0         4        0  \n",
       "3                      0               0        15        0  \n",
       "6                      4               0        19        2  \n",
       "9                      6               0        16        0  \n",
       "42                     7               0         8        0  \n",
       "11                     0               0        15        1  \n",
       "45                     0               0        17        1  \n",
       "15                     0               0        20        0  \n",
       "17                     0               0        12        4  \n",
       "51                     0               0         5        0  \n",
       "22                     0               0        19        3  \n",
       "26                     3               0         4        3  \n",
       "28                     0               0         6        3  \n",
       "29                     6               0        14        6  \n",
       "30                     0               0         9        2  "
      ]
     },
     "execution_count": 42,
     "metadata": {},
     "output_type": "execute_result"
    }
   ],
   "source": [
    "anomaly_employees_data[['Employee_Name','Salary','HispanicLatino','RaceDesc','ManagerName','PerformanceScore',\n",
    "                        'EngagementSurvey', 'EmpSatisfaction',\"SpecialProjectsCount\",\"DaysLateLast30\",\"Absences\",\"cluster\"]]"
   ]
  },
  {
   "cell_type": "code",
   "execution_count": 43,
   "id": "dbdb62b7",
   "metadata": {},
   "outputs": [
    {
     "data": {
      "text/html": [
       "<div>\n",
       "<style scoped>\n",
       "    .dataframe tbody tr th:only-of-type {\n",
       "        vertical-align: middle;\n",
       "    }\n",
       "\n",
       "    .dataframe tbody tr th {\n",
       "        vertical-align: top;\n",
       "    }\n",
       "\n",
       "    .dataframe thead th {\n",
       "        text-align: right;\n",
       "    }\n",
       "</style>\n",
       "<table border=\"1\" class=\"dataframe\">\n",
       "  <thead>\n",
       "    <tr style=\"text-align: right;\">\n",
       "      <th></th>\n",
       "      <th>Employee_Name</th>\n",
       "      <th>Salary</th>\n",
       "      <th>EngagementSurvey</th>\n",
       "      <th>EmpSatisfaction</th>\n",
       "      <th>SpecialProjectsCount</th>\n",
       "      <th>DaysLateLast30</th>\n",
       "      <th>Absences</th>\n",
       "      <th>PerfScoreID</th>\n",
       "      <th>cluster</th>\n",
       "    </tr>\n",
       "  </thead>\n",
       "  <tbody>\n",
       "    <tr>\n",
       "      <th>0</th>\n",
       "      <td>Adinolfi, Wilson  K</td>\n",
       "      <td>62506</td>\n",
       "      <td>4.60</td>\n",
       "      <td>5</td>\n",
       "      <td>0</td>\n",
       "      <td>0</td>\n",
       "      <td>1</td>\n",
       "      <td>4</td>\n",
       "      <td>2</td>\n",
       "    </tr>\n",
       "    <tr>\n",
       "      <th>1</th>\n",
       "      <td>Ait Sidi, Karthikeyan</td>\n",
       "      <td>104437</td>\n",
       "      <td>4.96</td>\n",
       "      <td>3</td>\n",
       "      <td>6</td>\n",
       "      <td>0</td>\n",
       "      <td>17</td>\n",
       "      <td>3</td>\n",
       "      <td>0</td>\n",
       "    </tr>\n",
       "    <tr>\n",
       "      <th>2</th>\n",
       "      <td>Akinkuolie, Sarah</td>\n",
       "      <td>64955</td>\n",
       "      <td>3.02</td>\n",
       "      <td>3</td>\n",
       "      <td>0</td>\n",
       "      <td>0</td>\n",
       "      <td>3</td>\n",
       "      <td>3</td>\n",
       "      <td>0</td>\n",
       "    </tr>\n",
       "    <tr>\n",
       "      <th>3</th>\n",
       "      <td>Alagbe,Trina</td>\n",
       "      <td>64991</td>\n",
       "      <td>4.84</td>\n",
       "      <td>5</td>\n",
       "      <td>0</td>\n",
       "      <td>0</td>\n",
       "      <td>15</td>\n",
       "      <td>3</td>\n",
       "      <td>0</td>\n",
       "    </tr>\n",
       "    <tr>\n",
       "      <th>4</th>\n",
       "      <td>Anderson, Carol</td>\n",
       "      <td>50825</td>\n",
       "      <td>5.00</td>\n",
       "      <td>4</td>\n",
       "      <td>0</td>\n",
       "      <td>0</td>\n",
       "      <td>2</td>\n",
       "      <td>3</td>\n",
       "      <td>4</td>\n",
       "    </tr>\n",
       "  </tbody>\n",
       "</table>\n",
       "</div>"
      ],
      "text/plain": [
       "              Employee_Name  Salary  EngagementSurvey  EmpSatisfaction  \\\n",
       "0       Adinolfi, Wilson  K   62506              4.60                5   \n",
       "1  Ait Sidi, Karthikeyan     104437              4.96                3   \n",
       "2         Akinkuolie, Sarah   64955              3.02                3   \n",
       "3              Alagbe,Trina   64991              4.84                5   \n",
       "4          Anderson, Carol    50825              5.00                4   \n",
       "\n",
       "   SpecialProjectsCount  DaysLateLast30  Absences  PerfScoreID  cluster  \n",
       "0                     0               0         1            4        2  \n",
       "1                     6               0        17            3        0  \n",
       "2                     0               0         3            3        0  \n",
       "3                     0               0        15            3        0  \n",
       "4                     0               0         2            3        4  "
      ]
     },
     "execution_count": 43,
     "metadata": {},
     "output_type": "execute_result"
    }
   ],
   "source": [
    "############################\n",
    "#Find anomaly employees (with respect to their domegraphic cluster) based on each of the following variables: \n",
    "#Salary, EngagementSurvey, EmpSatisfaction, SpecialProjectsCount, DaysLateLast30, Absences, PerfScoreID\n",
    "############################\n",
    "anomaly_columns=[\"Employee_Name\",\"Salary\",\"EngagementSurvey\",\"EmpSatisfaction\",\"SpecialProjectsCount\",\"DaysLateLast30\",\"Absences\", \n",
    "                 \"PerfScoreID\",\"cluster\"]\n",
    "\n",
    "anomaly_data=pd.DataFrame(data,columns=anomaly_columns)\n",
    "anomaly_data.head()"
   ]
  },
  {
   "cell_type": "code",
   "execution_count": 44,
   "id": "4d6b22b2",
   "metadata": {},
   "outputs": [
    {
     "data": {
      "text/plain": [
       "array([[<AxesSubplot:title={'center':'Salary'}>]], dtype=object)"
      ]
     },
     "execution_count": 44,
     "metadata": {},
     "output_type": "execute_result"
    },
    {
     "data": {
      "image/png": "[encoded data removed]",
      "text/plain": [
       "<Figure size 432x288 with 1 Axes>"
      ]
     },
     "metadata": {
      "needs_background": "light"
     },
     "output_type": "display_data"
    }
   ],
   "source": [
    "############################\n",
    "#Find anomaly employees (with respect to their domegraphic cluster) based on Salary.\n",
    "############################\n",
    "anomaly_data[anomaly_data[\"cluster\"]==0][[\"Salary\"]].hist(bins=20)"
   ]
  },
  {
   "cell_type": "code",
   "execution_count": 45,
   "id": "61668669",
   "metadata": {},
   "outputs": [
    {
     "data": {
      "text/plain": [
       "<Figure size 432x288 with 0 Axes>"
      ]
     },
     "metadata": {},
     "output_type": "display_data"
    },
    {
     "data": {
      "image/png": "[encoded data removed]",
      "text/plain": [
       "<Figure size 432x288 with 1 Axes>"
      ]
     },
     "metadata": {
      "needs_background": "light"
     },
     "output_type": "display_data"
    },
    {
     "data": {
      "text/plain": [
       "<Figure size 432x288 with 0 Axes>"
      ]
     },
     "metadata": {},
     "output_type": "display_data"
    },
    {
     "data": {
      "image/png": "[encoded data removed]",
      "text/plain": [
       "<Figure size 432x288 with 1 Axes>"
      ]
     },
     "metadata": {
      "needs_background": "light"
     },
     "output_type": "display_data"
    },
    {
     "data": {
      "text/plain": [
       "<Figure size 432x288 with 0 Axes>"
      ]
     },
     "metadata": {},
     "output_type": "display_data"
    },
    {
     "data": {
      "image/png": "[encoded data removed]",
      "text/plain": [
       "<Figure size 432x288 with 1 Axes>"
      ]
     },
     "metadata": {
      "needs_background": "light"
     },
     "output_type": "display_data"
    },
    {
     "data": {
      "text/plain": [
       "<Figure size 432x288 with 0 Axes>"
      ]
     },
     "metadata": {},
     "output_type": "display_data"
    },
    {
     "data": {
      "image/png": "[encoded data removed]",
      "text/plain": [
       "<Figure size 432x288 with 1 Axes>"
      ]
     },
     "metadata": {
      "needs_background": "light"
     },
     "output_type": "display_data"
    },
    {
     "data": {
      "text/plain": [
       "<Figure size 432x288 with 0 Axes>"
      ]
     },
     "metadata": {},
     "output_type": "display_data"
    },
    {
     "data": {
      "image/png": "[encoded data removed]",
      "text/plain": [
       "<Figure size 432x288 with 1 Axes>"
      ]
     },
     "metadata": {
      "needs_background": "light"
     },
     "output_type": "display_data"
    },
    {
     "data": {
      "text/plain": [
       "<Figure size 432x288 with 0 Axes>"
      ]
     },
     "metadata": {},
     "output_type": "display_data"
    },
    {
     "data": {
      "image/png": "[encoded data removed]",
      "text/plain": [
       "<Figure size 432x288 with 1 Axes>"
      ]
     },
     "metadata": {
      "needs_background": "light"
     },
     "output_type": "display_data"
    },
    {
     "data": {
      "text/plain": [
       "<Figure size 432x288 with 0 Axes>"
      ]
     },
     "metadata": {},
     "output_type": "display_data"
    },
    {
     "data": {
      "image/png": "[encoded data removed]",
      "text/plain": [
       "<Figure size 432x288 with 1 Axes>"
      ]
     },
     "metadata": {
      "needs_background": "light"
     },
     "output_type": "display_data"
    }
   ],
   "source": [
    "for cluster in all_clusters:\n",
    "    plt.figure()\n",
    "    anomaly_data[anomaly_data[\"cluster\"]==cluster][[\"Salary\"]].hist(bins=20)\n",
    "    plt.title(\"Salary histogram for cluster %d\"%(cluster))\n",
    "    plt.show()"
   ]
  },
  {
   "cell_type": "code",
   "execution_count": 46,
   "id": "3d73f543",
   "metadata": {},
   "outputs": [
    {
     "name": "stdout",
     "output_type": "stream",
     "text": [
      "['Biden, Lowan  M', 'Akinkuolie, Sarah', 'Beatrice, Courtney ', 'Brown, Mia', 'Baczenski, Rachael  ', 'Adinolfi, Wilson  K', 'DeGweck,  James', 'Anderson, Linda  ']\n",
      "[0, 65, 2, 5, 10, 17, 21, 29]\n",
      "[]\n",
      "[]\n"
     ]
    }
   ],
   "source": [
    "high_salary_employees=[]\n",
    "low_salary_employees=[]\n",
    "high_salary_employees_idx=[]\n",
    "low_salary_employees_idx=[]\n",
    "upper_cutoff=2.5\n",
    "lower_cutoff=-2.5\n",
    "for cluster in all_clusters:\n",
    "    salaries=anomaly_data[anomaly_data[\"cluster\"]==cluster][[\"Salary\"]]\n",
    "    mean_salary=np.mean(salaries)\n",
    "    sd_salary=np.std(salaries)\n",
    "    z=(salaries-mean_salary)/sd_salary\n",
    "    z=z[\"Salary\"]\n",
    "    high_salary_employees.extend([anomaly_data[\"Employee_Name\"].iloc[i] for i,x in enumerate(z) if x>upper_cutoff])\n",
    "    high_salary_employees_idx.extend([i for i,x in enumerate(z) if x>upper_cutoff])\n",
    "    low_salary_employees.extend([anomaly_data[\"Employee_Name\"].iloc[i] for i,x in enumerate(z) if x<lower_cutoff])\n",
    "    low_salary_employees_idx.extend([i for i,x in enumerate(z) if x<lower_cutoff])\n",
    "\n",
    "high_salary_employees=list(set(high_salary_employees))\n",
    "high_salary_employees_idx=list(set(high_salary_employees_idx))\n",
    "low_salary_employees=list(set(low_salary_employees))\n",
    "low_salary_employees_idx=list(set(low_salary_employees_idx))\n",
    "print(high_salary_employees)\n",
    "print(high_salary_employees_idx)\n",
    "print(low_salary_employees)\n",
    "print(low_salary_employees_idx)"
   ]
  },
  {
   "cell_type": "code",
   "execution_count": 47,
   "id": "39b3f7d7",
   "metadata": {},
   "outputs": [
    {
     "data": {
      "text/html": [
       "<div>\n",
       "<style scoped>\n",
       "    .dataframe tbody tr th:only-of-type {\n",
       "        vertical-align: middle;\n",
       "    }\n",
       "\n",
       "    .dataframe tbody tr th {\n",
       "        vertical-align: top;\n",
       "    }\n",
       "\n",
       "    .dataframe thead th {\n",
       "        text-align: right;\n",
       "    }\n",
       "</style>\n",
       "<table border=\"1\" class=\"dataframe\">\n",
       "  <thead>\n",
       "    <tr style=\"text-align: right;\">\n",
       "      <th></th>\n",
       "      <th>Employee_Name</th>\n",
       "      <th>Salary</th>\n",
       "      <th>HispanicLatino</th>\n",
       "      <th>RaceDesc</th>\n",
       "      <th>ManagerName</th>\n",
       "      <th>PerformanceScore</th>\n",
       "      <th>EngagementSurvey</th>\n",
       "      <th>EmpSatisfaction</th>\n",
       "      <th>SpecialProjectsCount</th>\n",
       "      <th>DaysLateLast30</th>\n",
       "      <th>Absences</th>\n",
       "      <th>cluster</th>\n",
       "    </tr>\n",
       "  </thead>\n",
       "  <tbody>\n",
       "    <tr>\n",
       "      <th>0</th>\n",
       "      <td>Adinolfi, Wilson  K</td>\n",
       "      <td>62506</td>\n",
       "      <td>No</td>\n",
       "      <td>White</td>\n",
       "      <td>Michael Albert</td>\n",
       "      <td>Exceeds</td>\n",
       "      <td>4.60</td>\n",
       "      <td>5</td>\n",
       "      <td>0</td>\n",
       "      <td>0</td>\n",
       "      <td>1</td>\n",
       "      <td>2</td>\n",
       "    </tr>\n",
       "    <tr>\n",
       "      <th>65</th>\n",
       "      <td>DeGweck,  James</td>\n",
       "      <td>55722</td>\n",
       "      <td>No</td>\n",
       "      <td>White</td>\n",
       "      <td>Webster Butler</td>\n",
       "      <td>Fully Meets</td>\n",
       "      <td>5.00</td>\n",
       "      <td>4</td>\n",
       "      <td>0</td>\n",
       "      <td>0</td>\n",
       "      <td>14</td>\n",
       "      <td>0</td>\n",
       "    </tr>\n",
       "    <tr>\n",
       "      <th>2</th>\n",
       "      <td>Akinkuolie, Sarah</td>\n",
       "      <td>64955</td>\n",
       "      <td>No</td>\n",
       "      <td>White</td>\n",
       "      <td>Kissy Sullivan</td>\n",
       "      <td>Fully Meets</td>\n",
       "      <td>3.02</td>\n",
       "      <td>3</td>\n",
       "      <td>0</td>\n",
       "      <td>0</td>\n",
       "      <td>3</td>\n",
       "      <td>0</td>\n",
       "    </tr>\n",
       "    <tr>\n",
       "      <th>5</th>\n",
       "      <td>Anderson, Linda</td>\n",
       "      <td>57568</td>\n",
       "      <td>No</td>\n",
       "      <td>White</td>\n",
       "      <td>Amy Dunn</td>\n",
       "      <td>Exceeds</td>\n",
       "      <td>5.00</td>\n",
       "      <td>5</td>\n",
       "      <td>0</td>\n",
       "      <td>0</td>\n",
       "      <td>15</td>\n",
       "      <td>2</td>\n",
       "    </tr>\n",
       "    <tr>\n",
       "      <th>10</th>\n",
       "      <td>Baczenski, Rachael</td>\n",
       "      <td>54670</td>\n",
       "      <td>Yes</td>\n",
       "      <td>Black or African American</td>\n",
       "      <td>David Stanley</td>\n",
       "      <td>Fully Meets</td>\n",
       "      <td>4.20</td>\n",
       "      <td>4</td>\n",
       "      <td>0</td>\n",
       "      <td>0</td>\n",
       "      <td>12</td>\n",
       "      <td>0</td>\n",
       "    </tr>\n",
       "    <tr>\n",
       "      <th>17</th>\n",
       "      <td>Beatrice, Courtney</td>\n",
       "      <td>59026</td>\n",
       "      <td>No</td>\n",
       "      <td>White</td>\n",
       "      <td>Elijiah Gray</td>\n",
       "      <td>Fully Meets</td>\n",
       "      <td>5.00</td>\n",
       "      <td>5</td>\n",
       "      <td>0</td>\n",
       "      <td>0</td>\n",
       "      <td>12</td>\n",
       "      <td>4</td>\n",
       "    </tr>\n",
       "    <tr>\n",
       "      <th>21</th>\n",
       "      <td>Biden, Lowan  M</td>\n",
       "      <td>64919</td>\n",
       "      <td>No</td>\n",
       "      <td>Asian</td>\n",
       "      <td>Ketsia Liebig</td>\n",
       "      <td>Fully Meets</td>\n",
       "      <td>4.20</td>\n",
       "      <td>3</td>\n",
       "      <td>0</td>\n",
       "      <td>0</td>\n",
       "      <td>2</td>\n",
       "      <td>6</td>\n",
       "    </tr>\n",
       "    <tr>\n",
       "      <th>29</th>\n",
       "      <td>Brown, Mia</td>\n",
       "      <td>63000</td>\n",
       "      <td>No</td>\n",
       "      <td>Black or African American</td>\n",
       "      <td>Brandon R. LeBlanc</td>\n",
       "      <td>Fully Meets</td>\n",
       "      <td>4.50</td>\n",
       "      <td>2</td>\n",
       "      <td>6</td>\n",
       "      <td>0</td>\n",
       "      <td>14</td>\n",
       "      <td>6</td>\n",
       "    </tr>\n",
       "  </tbody>\n",
       "</table>\n",
       "</div>"
      ],
      "text/plain": [
       "           Employee_Name  Salary HispanicLatino                   RaceDesc  \\\n",
       "0    Adinolfi, Wilson  K   62506             No                      White   \n",
       "65       DeGweck,  James   55722             No                      White   \n",
       "2      Akinkuolie, Sarah   64955             No                      White   \n",
       "5      Anderson, Linda     57568             No                      White   \n",
       "10  Baczenski, Rachael     54670            Yes  Black or African American   \n",
       "17   Beatrice, Courtney    59026             No                      White   \n",
       "21       Biden, Lowan  M   64919             No                      Asian   \n",
       "29            Brown, Mia   63000             No  Black or African American   \n",
       "\n",
       "           ManagerName PerformanceScore  EngagementSurvey  EmpSatisfaction  \\\n",
       "0       Michael Albert          Exceeds              4.60                5   \n",
       "65      Webster Butler      Fully Meets              5.00                4   \n",
       "2       Kissy Sullivan      Fully Meets              3.02                3   \n",
       "5             Amy Dunn          Exceeds              5.00                5   \n",
       "10       David Stanley      Fully Meets              4.20                4   \n",
       "17        Elijiah Gray      Fully Meets              5.00                5   \n",
       "21       Ketsia Liebig      Fully Meets              4.20                3   \n",
       "29  Brandon R. LeBlanc      Fully Meets              4.50                2   \n",
       "\n",
       "    SpecialProjectsCount  DaysLateLast30  Absences  cluster  \n",
       "0                      0               0         1        2  \n",
       "65                     0               0        14        0  \n",
       "2                      0               0         3        0  \n",
       "5                      0               0        15        2  \n",
       "10                     0               0        12        0  \n",
       "17                     0               0        12        4  \n",
       "21                     0               0         2        6  \n",
       "29                     6               0        14        6  "
      ]
     },
     "execution_count": 47,
     "metadata": {},
     "output_type": "execute_result"
    }
   ],
   "source": [
    "anomaly_employees_high_salary_data=data.iloc[high_salary_employees_idx]\n",
    "anomaly_employees_high_salary_data[['Employee_Name','Salary','HispanicLatino','RaceDesc','ManagerName','PerformanceScore',\n",
    "                        'EngagementSurvey', 'EmpSatisfaction',\"SpecialProjectsCount\",\"DaysLateLast30\",\"Absences\",\"cluster\"]]"
   ]
  },
  {
   "cell_type": "code",
   "execution_count": 48,
   "id": "d1b18ccc",
   "metadata": {},
   "outputs": [
    {
     "data": {
      "text/html": [
       "<div>\n",
       "<style scoped>\n",
       "    .dataframe tbody tr th:only-of-type {\n",
       "        vertical-align: middle;\n",
       "    }\n",
       "\n",
       "    .dataframe tbody tr th {\n",
       "        vertical-align: top;\n",
       "    }\n",
       "\n",
       "    .dataframe thead th {\n",
       "        text-align: right;\n",
       "    }\n",
       "</style>\n",
       "<table border=\"1\" class=\"dataframe\">\n",
       "  <thead>\n",
       "    <tr style=\"text-align: right;\">\n",
       "      <th></th>\n",
       "      <th>Employee_Name</th>\n",
       "      <th>Salary</th>\n",
       "      <th>HispanicLatino</th>\n",
       "      <th>RaceDesc</th>\n",
       "      <th>ManagerName</th>\n",
       "      <th>PerformanceScore</th>\n",
       "      <th>EngagementSurvey</th>\n",
       "      <th>EmpSatisfaction</th>\n",
       "      <th>SpecialProjectsCount</th>\n",
       "      <th>DaysLateLast30</th>\n",
       "      <th>Absences</th>\n",
       "      <th>cluster</th>\n",
       "    </tr>\n",
       "  </thead>\n",
       "  <tbody>\n",
       "  </tbody>\n",
       "</table>\n",
       "</div>"
      ],
      "text/plain": [
       "Empty DataFrame\n",
       "Columns: [Employee_Name, Salary, HispanicLatino, RaceDesc, ManagerName, PerformanceScore, EngagementSurvey, EmpSatisfaction, SpecialProjectsCount, DaysLateLast30, Absences, cluster]\n",
       "Index: []"
      ]
     },
     "execution_count": 48,
     "metadata": {},
     "output_type": "execute_result"
    }
   ],
   "source": [
    "anomaly_employees_low_salary_data=data.iloc[low_salary_employees_idx]\n",
    "anomaly_employees_low_salary_data[['Employee_Name','Salary','HispanicLatino','RaceDesc','ManagerName','PerformanceScore',\n",
    "                        'EngagementSurvey', 'EmpSatisfaction',\"SpecialProjectsCount\",\"DaysLateLast30\",\"Absences\",\"cluster\"]]"
   ]
  },
  {
   "cell_type": "code",
   "execution_count": 49,
   "id": "4363d3b5",
   "metadata": {},
   "outputs": [
    {
     "data": {
      "text/plain": [
       "array([[<AxesSubplot:title={'center':'EngagementSurvey'}>]], dtype=object)"
      ]
     },
     "execution_count": 49,
     "metadata": {},
     "output_type": "execute_result"
    },
    {
     "data": {
      "image/png": "[encoded data removed]",
      "text/plain": [
       "<Figure size 432x288 with 1 Axes>"
      ]
     },
     "metadata": {
      "needs_background": "light"
     },
     "output_type": "display_data"
    }
   ],
   "source": [
    "############################\n",
    "#Find anomaly employees (with respect to their domegraphic cluster) based on EngagementSurvey (whatever that is).\n",
    "############################\n",
    "anomaly_data[anomaly_data[\"cluster\"]==0][[\"EngagementSurvey\"]].hist(bins=20)"
   ]
  },
  {
   "cell_type": "code",
   "execution_count": 50,
   "id": "9f5f69ff",
   "metadata": {},
   "outputs": [
    {
     "data": {
      "text/plain": [
       "<Figure size 432x288 with 0 Axes>"
      ]
     },
     "metadata": {},
     "output_type": "display_data"
    },
    {
     "data": {
      "image/png": "[encoded data removed]",
      "text/plain": [
       "<Figure size 432x288 with 1 Axes>"
      ]
     },
     "metadata": {
      "needs_background": "light"
     },
     "output_type": "display_data"
    },
    {
     "data": {
      "text/plain": [
       "<Figure size 432x288 with 0 Axes>"
      ]
     },
     "metadata": {},
     "output_type": "display_data"
    },
    {
     "data": {
      "image/png": "[encoded data removed]",
      "text/plain": [
       "<Figure size 432x288 with 1 Axes>"
      ]
     },
     "metadata": {
      "needs_background": "light"
     },
     "output_type": "display_data"
    },
    {
     "data": {
      "text/plain": [
       "<Figure size 432x288 with 0 Axes>"
      ]
     },
     "metadata": {},
     "output_type": "display_data"
    },
    {
     "data": {
      "image/png": "[encoded data removed]",
      "text/plain": [
       "<Figure size 432x288 with 1 Axes>"
      ]
     },
     "metadata": {
      "needs_background": "light"
     },
     "output_type": "display_data"
    },
    {
     "data": {
      "text/plain": [
       "<Figure size 432x288 with 0 Axes>"
      ]
     },
     "metadata": {},
     "output_type": "display_data"
    },
    {
     "data": {
      "image/png": "[encoded data removed]",
      "text/plain": [
       "<Figure size 432x288 with 1 Axes>"
      ]
     },
     "metadata": {
      "needs_background": "light"
     },
     "output_type": "display_data"
    },
    {
     "data": {
      "text/plain": [
       "<Figure size 432x288 with 0 Axes>"
      ]
     },
     "metadata": {},
     "output_type": "display_data"
    },
    {
     "data": {
      "image/png": "[encoded data removed]",
      "text/plain": [
       "<Figure size 432x288 with 1 Axes>"
      ]
     },
     "metadata": {
      "needs_background": "light"
     },
     "output_type": "display_data"
    },
    {
     "data": {
      "text/plain": [
       "<Figure size 432x288 with 0 Axes>"
      ]
     },
     "metadata": {},
     "output_type": "display_data"
    },
    {
     "data": {
      "image/png": "[encoded data removed]",
      "text/plain": [
       "<Figure size 432x288 with 1 Axes>"
      ]
     },
     "metadata": {
      "needs_background": "light"
     },
     "output_type": "display_data"
    },
    {
     "data": {
      "text/plain": [
       "<Figure size 432x288 with 0 Axes>"
      ]
     },
     "metadata": {},
     "output_type": "display_data"
    },
    {
     "data": {
      "image/png": "[encoded data removed]",
      "text/plain": [
       "<Figure size 432x288 with 1 Axes>"
      ]
     },
     "metadata": {
      "needs_background": "light"
     },
     "output_type": "display_data"
    }
   ],
   "source": [
    "for cluster in all_clusters:\n",
    "    plt.figure()\n",
    "    anomaly_data[anomaly_data[\"cluster\"]==cluster][[\"EngagementSurvey\"]].hist(bins=20)\n",
    "    plt.title(\"Engagement Survey histogram for cluster %d\"%(cluster))\n",
    "    plt.show()"
   ]
  },
  {
   "cell_type": "code",
   "execution_count": 51,
   "id": "b034f26c",
   "metadata": {},
   "outputs": [
    {
     "name": "stdout",
     "output_type": "stream",
     "text": [
      "[]\n",
      "[]\n",
      "['Billis, Helen', 'Brill, Donna', 'Dougall, Eric', 'Beatrice, Courtney ', 'Alagbe,Trina', 'Bernstein, Sean', 'Clukey, Elijian', 'Barbara, Thomas', 'Bacong, Alejandro ']\n",
      "[3, 9, 11, 76, 17, 51, 20, 22, 28]\n"
     ]
    }
   ],
   "source": [
    "high_eng_survey_employees=[]\n",
    "low_eng_survey_employees=[]\n",
    "high_eng_survey_employees_idx=[]\n",
    "low_eng_survey_employees_idx=[]\n",
    "upper_cutoff=2.5\n",
    "lower_cutoff=-2.5\n",
    "for cluster in all_clusters:\n",
    "    surveys=anomaly_data[anomaly_data[\"cluster\"]==cluster][[\"EngagementSurvey\"]]\n",
    "    mean_survey=np.mean(surveys)\n",
    "    sd_survey=np.std(surveys)\n",
    "    z=(surveys-mean_survey)/sd_survey\n",
    "    z=z[\"EngagementSurvey\"]\n",
    "    high_eng_survey_employees.extend([anomaly_data[\"Employee_Name\"].iloc[i] for i,x in enumerate(z) if x>upper_cutoff])\n",
    "    high_eng_survey_employees_idx.extend([i for i,x in enumerate(z) if x>upper_cutoff])\n",
    "    low_eng_survey_employees.extend([anomaly_data[\"Employee_Name\"].iloc[i] for i,x in enumerate(z) if x<lower_cutoff])\n",
    "    low_eng_survey_employees_idx.extend([i for i,x in enumerate(z) if x<lower_cutoff])\n",
    "\n",
    "high_eng_survey_employees=list(set(high_eng_survey_employees))\n",
    "high_eng_survey_employees_idx=list(set(high_eng_survey_employees_idx))\n",
    "low_eng_survey_employees=list(set(low_eng_survey_employees))\n",
    "low_eng_survey_employees_idx=list(set(low_eng_survey_employees_idx))\n",
    "\n",
    "print(high_eng_survey_employees)\n",
    "print(high_eng_survey_employees_idx)\n",
    "print(low_eng_survey_employees)\n",
    "print(low_eng_survey_employees_idx)"
   ]
  },
  {
   "cell_type": "code",
   "execution_count": 52,
   "id": "d7a55612",
   "metadata": {},
   "outputs": [
    {
     "data": {
      "text/html": [
       "<div>\n",
       "<style scoped>\n",
       "    .dataframe tbody tr th:only-of-type {\n",
       "        vertical-align: middle;\n",
       "    }\n",
       "\n",
       "    .dataframe tbody tr th {\n",
       "        vertical-align: top;\n",
       "    }\n",
       "\n",
       "    .dataframe thead th {\n",
       "        text-align: right;\n",
       "    }\n",
       "</style>\n",
       "<table border=\"1\" class=\"dataframe\">\n",
       "  <thead>\n",
       "    <tr style=\"text-align: right;\">\n",
       "      <th></th>\n",
       "      <th>Employee_Name</th>\n",
       "      <th>Salary</th>\n",
       "      <th>HispanicLatino</th>\n",
       "      <th>RaceDesc</th>\n",
       "      <th>ManagerName</th>\n",
       "      <th>PerformanceScore</th>\n",
       "      <th>EngagementSurvey</th>\n",
       "      <th>EmpSatisfaction</th>\n",
       "      <th>SpecialProjectsCount</th>\n",
       "      <th>DaysLateLast30</th>\n",
       "      <th>Absences</th>\n",
       "      <th>cluster</th>\n",
       "    </tr>\n",
       "  </thead>\n",
       "  <tbody>\n",
       "  </tbody>\n",
       "</table>\n",
       "</div>"
      ],
      "text/plain": [
       "Empty DataFrame\n",
       "Columns: [Employee_Name, Salary, HispanicLatino, RaceDesc, ManagerName, PerformanceScore, EngagementSurvey, EmpSatisfaction, SpecialProjectsCount, DaysLateLast30, Absences, cluster]\n",
       "Index: []"
      ]
     },
     "execution_count": 52,
     "metadata": {},
     "output_type": "execute_result"
    }
   ],
   "source": [
    "anomaly_employees_high_eng_survey_data=data.iloc[high_eng_survey_employees_idx]\n",
    "anomaly_employees_high_eng_survey_data[['Employee_Name','Salary','HispanicLatino','RaceDesc','ManagerName','PerformanceScore',\n",
    "                        'EngagementSurvey', 'EmpSatisfaction',\"SpecialProjectsCount\",\"DaysLateLast30\",\"Absences\",\"cluster\"]]"
   ]
  },
  {
   "cell_type": "code",
   "execution_count": 53,
   "id": "786ccb38",
   "metadata": {
    "scrolled": true
   },
   "outputs": [
    {
     "data": {
      "text/html": [
       "<div>\n",
       "<style scoped>\n",
       "    .dataframe tbody tr th:only-of-type {\n",
       "        vertical-align: middle;\n",
       "    }\n",
       "\n",
       "    .dataframe tbody tr th {\n",
       "        vertical-align: top;\n",
       "    }\n",
       "\n",
       "    .dataframe thead th {\n",
       "        text-align: right;\n",
       "    }\n",
       "</style>\n",
       "<table border=\"1\" class=\"dataframe\">\n",
       "  <thead>\n",
       "    <tr style=\"text-align: right;\">\n",
       "      <th></th>\n",
       "      <th>Employee_Name</th>\n",
       "      <th>Salary</th>\n",
       "      <th>HispanicLatino</th>\n",
       "      <th>RaceDesc</th>\n",
       "      <th>ManagerName</th>\n",
       "      <th>PerformanceScore</th>\n",
       "      <th>EngagementSurvey</th>\n",
       "      <th>EmpSatisfaction</th>\n",
       "      <th>SpecialProjectsCount</th>\n",
       "      <th>DaysLateLast30</th>\n",
       "      <th>Absences</th>\n",
       "      <th>cluster</th>\n",
       "    </tr>\n",
       "  </thead>\n",
       "  <tbody>\n",
       "    <tr>\n",
       "      <th>3</th>\n",
       "      <td>Alagbe,Trina</td>\n",
       "      <td>64991</td>\n",
       "      <td>No</td>\n",
       "      <td>White</td>\n",
       "      <td>Elijiah Gray</td>\n",
       "      <td>Fully Meets</td>\n",
       "      <td>4.84</td>\n",
       "      <td>5</td>\n",
       "      <td>0</td>\n",
       "      <td>0</td>\n",
       "      <td>15</td>\n",
       "      <td>0</td>\n",
       "    </tr>\n",
       "    <tr>\n",
       "      <th>9</th>\n",
       "      <td>Bacong, Alejandro</td>\n",
       "      <td>50178</td>\n",
       "      <td>No</td>\n",
       "      <td>White</td>\n",
       "      <td>Peter Monroe</td>\n",
       "      <td>Fully Meets</td>\n",
       "      <td>5.00</td>\n",
       "      <td>5</td>\n",
       "      <td>6</td>\n",
       "      <td>0</td>\n",
       "      <td>16</td>\n",
       "      <td>0</td>\n",
       "    </tr>\n",
       "    <tr>\n",
       "      <th>11</th>\n",
       "      <td>Barbara, Thomas</td>\n",
       "      <td>47211</td>\n",
       "      <td>Yes</td>\n",
       "      <td>Black or African American</td>\n",
       "      <td>Kissy Sullivan</td>\n",
       "      <td>Fully Meets</td>\n",
       "      <td>4.20</td>\n",
       "      <td>3</td>\n",
       "      <td>0</td>\n",
       "      <td>0</td>\n",
       "      <td>15</td>\n",
       "      <td>1</td>\n",
       "    </tr>\n",
       "    <tr>\n",
       "      <th>76</th>\n",
       "      <td>Dougall, Eric</td>\n",
       "      <td>138888</td>\n",
       "      <td>No</td>\n",
       "      <td>Black or African American</td>\n",
       "      <td>Jennifer Zamora</td>\n",
       "      <td>Exceeds</td>\n",
       "      <td>4.30</td>\n",
       "      <td>5</td>\n",
       "      <td>5</td>\n",
       "      <td>0</td>\n",
       "      <td>4</td>\n",
       "      <td>2</td>\n",
       "    </tr>\n",
       "    <tr>\n",
       "      <th>17</th>\n",
       "      <td>Beatrice, Courtney</td>\n",
       "      <td>59026</td>\n",
       "      <td>No</td>\n",
       "      <td>White</td>\n",
       "      <td>Elijiah Gray</td>\n",
       "      <td>Fully Meets</td>\n",
       "      <td>5.00</td>\n",
       "      <td>5</td>\n",
       "      <td>0</td>\n",
       "      <td>0</td>\n",
       "      <td>12</td>\n",
       "      <td>4</td>\n",
       "    </tr>\n",
       "    <tr>\n",
       "      <th>51</th>\n",
       "      <td>Clukey, Elijian</td>\n",
       "      <td>50373</td>\n",
       "      <td>No</td>\n",
       "      <td>White</td>\n",
       "      <td>Brannon Miller</td>\n",
       "      <td>Exceeds</td>\n",
       "      <td>4.10</td>\n",
       "      <td>4</td>\n",
       "      <td>0</td>\n",
       "      <td>0</td>\n",
       "      <td>5</td>\n",
       "      <td>0</td>\n",
       "    </tr>\n",
       "    <tr>\n",
       "      <th>20</th>\n",
       "      <td>Bernstein, Sean</td>\n",
       "      <td>51044</td>\n",
       "      <td>Yes</td>\n",
       "      <td>White</td>\n",
       "      <td>Amy Dunn</td>\n",
       "      <td>Fully Meets</td>\n",
       "      <td>5.00</td>\n",
       "      <td>3</td>\n",
       "      <td>0</td>\n",
       "      <td>0</td>\n",
       "      <td>13</td>\n",
       "      <td>2</td>\n",
       "    </tr>\n",
       "    <tr>\n",
       "      <th>22</th>\n",
       "      <td>Billis, Helen</td>\n",
       "      <td>62910</td>\n",
       "      <td>No</td>\n",
       "      <td>White</td>\n",
       "      <td>Brannon Miller</td>\n",
       "      <td>Exceeds</td>\n",
       "      <td>5.00</td>\n",
       "      <td>3</td>\n",
       "      <td>0</td>\n",
       "      <td>0</td>\n",
       "      <td>19</td>\n",
       "      <td>3</td>\n",
       "    </tr>\n",
       "    <tr>\n",
       "      <th>28</th>\n",
       "      <td>Brill, Donna</td>\n",
       "      <td>53492</td>\n",
       "      <td>No</td>\n",
       "      <td>White</td>\n",
       "      <td>David Stanley</td>\n",
       "      <td>Fully Meets</td>\n",
       "      <td>3.35</td>\n",
       "      <td>4</td>\n",
       "      <td>0</td>\n",
       "      <td>0</td>\n",
       "      <td>6</td>\n",
       "      <td>3</td>\n",
       "    </tr>\n",
       "  </tbody>\n",
       "</table>\n",
       "</div>"
      ],
      "text/plain": [
       "          Employee_Name  Salary HispanicLatino                   RaceDesc  \\\n",
       "3          Alagbe,Trina   64991             No                      White   \n",
       "9    Bacong, Alejandro    50178             No                      White   \n",
       "11      Barbara, Thomas   47211            Yes  Black or African American   \n",
       "76        Dougall, Eric  138888             No  Black or African American   \n",
       "17  Beatrice, Courtney    59026             No                      White   \n",
       "51      Clukey, Elijian   50373             No                      White   \n",
       "20      Bernstein, Sean   51044            Yes                      White   \n",
       "22        Billis, Helen   62910             No                      White   \n",
       "28         Brill, Donna   53492             No                      White   \n",
       "\n",
       "        ManagerName PerformanceScore  EngagementSurvey  EmpSatisfaction  \\\n",
       "3      Elijiah Gray      Fully Meets              4.84                5   \n",
       "9      Peter Monroe      Fully Meets              5.00                5   \n",
       "11   Kissy Sullivan      Fully Meets              4.20                3   \n",
       "76  Jennifer Zamora          Exceeds              4.30                5   \n",
       "17     Elijiah Gray      Fully Meets              5.00                5   \n",
       "51   Brannon Miller          Exceeds              4.10                4   \n",
       "20         Amy Dunn      Fully Meets              5.00                3   \n",
       "22   Brannon Miller          Exceeds              5.00                3   \n",
       "28    David Stanley      Fully Meets              3.35                4   \n",
       "\n",
       "    SpecialProjectsCount  DaysLateLast30  Absences  cluster  \n",
       "3                      0               0        15        0  \n",
       "9                      6               0        16        0  \n",
       "11                     0               0        15        1  \n",
       "76                     5               0         4        2  \n",
       "17                     0               0        12        4  \n",
       "51                     0               0         5        0  \n",
       "20                     0               0        13        2  \n",
       "22                     0               0        19        3  \n",
       "28                     0               0         6        3  "
      ]
     },
     "execution_count": 53,
     "metadata": {},
     "output_type": "execute_result"
    }
   ],
   "source": [
    "anomaly_employees_low_eng_survey_data=data.iloc[low_eng_survey_employees_idx]\n",
    "anomaly_employees_low_eng_survey_data[['Employee_Name','Salary','HispanicLatino','RaceDesc','ManagerName','PerformanceScore',\n",
    "                        'EngagementSurvey', 'EmpSatisfaction',\"SpecialProjectsCount\",\"DaysLateLast30\",\"Absences\",\"cluster\"]]"
   ]
  },
  {
   "cell_type": "code",
   "execution_count": 54,
   "id": "caa4aea3",
   "metadata": {},
   "outputs": [
    {
     "data": {
      "text/plain": [
       "array([[<AxesSubplot:title={'center':'EmpSatisfaction'}>]], dtype=object)"
      ]
     },
     "execution_count": 54,
     "metadata": {},
     "output_type": "execute_result"
    },
    {
     "data": {
      "image/png": "[encoded data removed]",
      "text/plain": [
       "<Figure size 432x288 with 1 Axes>"
      ]
     },
     "metadata": {
      "needs_background": "light"
     },
     "output_type": "display_data"
    }
   ],
   "source": [
    "############################\n",
    "#Find anomaly employees (with respect to their domegraphic cluster) based on EmpSatisfaction.\n",
    "############################\n",
    "anomaly_data[anomaly_data[\"cluster\"]==0][[\"EmpSatisfaction\"]].hist(bins=20)"
   ]
  },
  {
   "cell_type": "code",
   "execution_count": 55,
   "id": "b5f055c9",
   "metadata": {},
   "outputs": [
    {
     "data": {
      "text/plain": [
       "<Figure size 432x288 with 0 Axes>"
      ]
     },
     "metadata": {},
     "output_type": "display_data"
    },
    {
     "data": {
      "image/png": "[encoded data removed]",
      "text/plain": [
       "<Figure size 432x288 with 1 Axes>"
      ]
     },
     "metadata": {
      "needs_background": "light"
     },
     "output_type": "display_data"
    },
    {
     "data": {
      "text/plain": [
       "<Figure size 432x288 with 0 Axes>"
      ]
     },
     "metadata": {},
     "output_type": "display_data"
    },
    {
     "data": {
      "image/png": "[encoded data removed]",
      "text/plain": [
       "<Figure size 432x288 with 1 Axes>"
      ]
     },
     "metadata": {
      "needs_background": "light"
     },
     "output_type": "display_data"
    },
    {
     "data": {
      "text/plain": [
       "<Figure size 432x288 with 0 Axes>"
      ]
     },
     "metadata": {},
     "output_type": "display_data"
    },
    {
     "data": {
      "image/png": "[encoded data removed]",
      "text/plain": [
       "<Figure size 432x288 with 1 Axes>"
      ]
     },
     "metadata": {
      "needs_background": "light"
     },
     "output_type": "display_data"
    },
    {
     "data": {
      "text/plain": [
       "<Figure size 432x288 with 0 Axes>"
      ]
     },
     "metadata": {},
     "output_type": "display_data"
    },
    {
     "data": {
      "image/png": "[encoded data removed]",
      "text/plain": [
       "<Figure size 432x288 with 1 Axes>"
      ]
     },
     "metadata": {
      "needs_background": "light"
     },
     "output_type": "display_data"
    },
    {
     "data": {
      "text/plain": [
       "<Figure size 432x288 with 0 Axes>"
      ]
     },
     "metadata": {},
     "output_type": "display_data"
    },
    {
     "data": {
      "image/png": "[encoded data removed]",
      "text/plain": [
       "<Figure size 432x288 with 1 Axes>"
      ]
     },
     "metadata": {
      "needs_background": "light"
     },
     "output_type": "display_data"
    },
    {
     "data": {
      "text/plain": [
       "<Figure size 432x288 with 0 Axes>"
      ]
     },
     "metadata": {},
     "output_type": "display_data"
    },
    {
     "data": {
      "image/png": "[encoded data removed]",
      "text/plain": [
       "<Figure size 432x288 with 1 Axes>"
      ]
     },
     "metadata": {
      "needs_background": "light"
     },
     "output_type": "display_data"
    },
    {
     "data": {
      "text/plain": [
       "<Figure size 432x288 with 0 Axes>"
      ]
     },
     "metadata": {},
     "output_type": "display_data"
    },
    {
     "data": {
      "image/png": "[encoded data removed]",
      "text/plain": [
       "<Figure size 432x288 with 1 Axes>"
      ]
     },
     "metadata": {
      "needs_background": "light"
     },
     "output_type": "display_data"
    }
   ],
   "source": [
    "for cluster in all_clusters:\n",
    "    plt.figure()\n",
    "    anomaly_data[anomaly_data[\"cluster\"]==cluster][[\"EmpSatisfaction\"]].hist(bins=20)\n",
    "    plt.title(\"Employee satisfaction histogram for cluster %d\"%(cluster))\n",
    "    plt.show()"
   ]
  },
  {
   "cell_type": "code",
   "execution_count": 56,
   "id": "81d0e803",
   "metadata": {},
   "outputs": [
    {
     "name": "stdout",
     "output_type": "stream",
     "text": [
      "[]\n",
      "[]\n",
      "[]\n",
      "[]\n"
     ]
    }
   ],
   "source": [
    "high_satisfaction_employees=[]\n",
    "low_satisfaction_employees=[]\n",
    "high_satisfaction_employees_idx=[]\n",
    "low_satisfaction_employees_idx=[]\n",
    "upper_cutoff=2.5\n",
    "lower_cutoff=-2.5\n",
    "for cluster in all_clusters:\n",
    "    satisfaction=anomaly_data[anomaly_data[\"cluster\"]==cluster][[\"EmpSatisfaction\"]]\n",
    "    mean_satisfaction=np.mean(satisfaction)\n",
    "    sd_satisfaction=np.std(satisfaction)\n",
    "    z=(satisfaction-mean_satisfaction)/sd_satisfaction\n",
    "    z=z[\"EmpSatisfaction\"]\n",
    "    high_eng_survey_employees.extend([anomaly_data[\"Employee_Name\"].iloc[i] for i,x in enumerate(z) if x>upper_cutoff])\n",
    "    high_eng_survey_employees_idx.extend([i for i,x in enumerate(z) if x>upper_cutoff])\n",
    "    low_eng_survey_employees.extend([anomaly_data[\"Employee_Name\"].iloc[i] for i,x in enumerate(z) if x<lower_cutoff])\n",
    "    low_eng_survey_employees_idx.extend([i for i,x in enumerate(z) if x<lower_cutoff])\n",
    "\n",
    "high_satisfaction_employees=list(set(high_satisfaction_employees))\n",
    "high_satisfaction_employees_idx=list(set(high_satisfaction_employees_idx))\n",
    "low_satisfaction_employees=list(set(low_satisfaction_employees))\n",
    "low_satisfaction_employees_idx=list(set(low_satisfaction_employees_idx))\n",
    "\n",
    "print(high_satisfaction_employees)\n",
    "print(high_satisfaction_employees_idx)\n",
    "print(low_satisfaction_employees)\n",
    "print(low_satisfaction_employees_idx)"
   ]
  },
  {
   "cell_type": "code",
   "execution_count": 57,
   "id": "19743631",
   "metadata": {},
   "outputs": [
    {
     "data": {
      "text/html": [
       "<div>\n",
       "<style scoped>\n",
       "    .dataframe tbody tr th:only-of-type {\n",
       "        vertical-align: middle;\n",
       "    }\n",
       "\n",
       "    .dataframe tbody tr th {\n",
       "        vertical-align: top;\n",
       "    }\n",
       "\n",
       "    .dataframe thead th {\n",
       "        text-align: right;\n",
       "    }\n",
       "</style>\n",
       "<table border=\"1\" class=\"dataframe\">\n",
       "  <thead>\n",
       "    <tr style=\"text-align: right;\">\n",
       "      <th></th>\n",
       "      <th>Employee_Name</th>\n",
       "      <th>Salary</th>\n",
       "      <th>HispanicLatino</th>\n",
       "      <th>RaceDesc</th>\n",
       "      <th>ManagerName</th>\n",
       "      <th>PerformanceScore</th>\n",
       "      <th>EngagementSurvey</th>\n",
       "      <th>EmpSatisfaction</th>\n",
       "      <th>SpecialProjectsCount</th>\n",
       "      <th>DaysLateLast30</th>\n",
       "      <th>Absences</th>\n",
       "      <th>cluster</th>\n",
       "    </tr>\n",
       "  </thead>\n",
       "  <tbody>\n",
       "  </tbody>\n",
       "</table>\n",
       "</div>"
      ],
      "text/plain": [
       "Empty DataFrame\n",
       "Columns: [Employee_Name, Salary, HispanicLatino, RaceDesc, ManagerName, PerformanceScore, EngagementSurvey, EmpSatisfaction, SpecialProjectsCount, DaysLateLast30, Absences, cluster]\n",
       "Index: []"
      ]
     },
     "execution_count": 57,
     "metadata": {},
     "output_type": "execute_result"
    }
   ],
   "source": [
    "anomaly_employees_high_satisfaction_data=data.iloc[high_satisfaction_employees_idx]\n",
    "anomaly_employees_high_satisfaction_data[['Employee_Name','Salary','HispanicLatino','RaceDesc','ManagerName','PerformanceScore',\n",
    "                        'EngagementSurvey', 'EmpSatisfaction',\"SpecialProjectsCount\",\"DaysLateLast30\",\"Absences\",\"cluster\"]]"
   ]
  },
  {
   "cell_type": "code",
   "execution_count": 58,
   "id": "711ea725",
   "metadata": {},
   "outputs": [
    {
     "data": {
      "text/html": [
       "<div>\n",
       "<style scoped>\n",
       "    .dataframe tbody tr th:only-of-type {\n",
       "        vertical-align: middle;\n",
       "    }\n",
       "\n",
       "    .dataframe tbody tr th {\n",
       "        vertical-align: top;\n",
       "    }\n",
       "\n",
       "    .dataframe thead th {\n",
       "        text-align: right;\n",
       "    }\n",
       "</style>\n",
       "<table border=\"1\" class=\"dataframe\">\n",
       "  <thead>\n",
       "    <tr style=\"text-align: right;\">\n",
       "      <th></th>\n",
       "      <th>Employee_Name</th>\n",
       "      <th>Salary</th>\n",
       "      <th>HispanicLatino</th>\n",
       "      <th>RaceDesc</th>\n",
       "      <th>ManagerName</th>\n",
       "      <th>PerformanceScore</th>\n",
       "      <th>EngagementSurvey</th>\n",
       "      <th>EmpSatisfaction</th>\n",
       "      <th>SpecialProjectsCount</th>\n",
       "      <th>DaysLateLast30</th>\n",
       "      <th>Absences</th>\n",
       "      <th>cluster</th>\n",
       "    </tr>\n",
       "  </thead>\n",
       "  <tbody>\n",
       "  </tbody>\n",
       "</table>\n",
       "</div>"
      ],
      "text/plain": [
       "Empty DataFrame\n",
       "Columns: [Employee_Name, Salary, HispanicLatino, RaceDesc, ManagerName, PerformanceScore, EngagementSurvey, EmpSatisfaction, SpecialProjectsCount, DaysLateLast30, Absences, cluster]\n",
       "Index: []"
      ]
     },
     "execution_count": 58,
     "metadata": {},
     "output_type": "execute_result"
    }
   ],
   "source": [
    "anomaly_employees_low_satisfaction_data=data.iloc[low_satisfaction_employees_idx]\n",
    "anomaly_employees_low_satisfaction_data[['Employee_Name','Salary','HispanicLatino','RaceDesc','ManagerName','PerformanceScore',\n",
    "                        'EngagementSurvey', 'EmpSatisfaction',\"SpecialProjectsCount\",\"DaysLateLast30\",\"Absences\",\"cluster\"]]"
   ]
  },
  {
   "cell_type": "code",
   "execution_count": 59,
   "id": "09204703",
   "metadata": {},
   "outputs": [
    {
     "data": {
      "text/plain": [
       "array([[<AxesSubplot:title={'center':'SpecialProjectsCount'}>]],\n",
       "      dtype=object)"
      ]
     },
     "execution_count": 59,
     "metadata": {},
     "output_type": "execute_result"
    },
    {
     "data": {
      "image/png": "[encoded data removed]",
      "text/plain": [
       "<Figure size 432x288 with 1 Axes>"
      ]
     },
     "metadata": {
      "needs_background": "light"
     },
     "output_type": "display_data"
    }
   ],
   "source": [
    "############################\n",
    "#Find anomaly employees (with respect to their domegraphic cluster) based on SpecialProjectsCount.\n",
    "############################\n",
    "anomaly_data[anomaly_data[\"cluster\"]==0][[\"SpecialProjectsCount\"]].hist(bins=20)"
   ]
  },
  {
   "cell_type": "code",
   "execution_count": 60,
   "id": "0642d584",
   "metadata": {},
   "outputs": [
    {
     "data": {
      "text/plain": [
       "<Figure size 432x288 with 0 Axes>"
      ]
     },
     "metadata": {},
     "output_type": "display_data"
    },
    {
     "data": {
      "image/png": "[encoded data removed]",
      "text/plain": [
       "<Figure size 432x288 with 1 Axes>"
      ]
     },
     "metadata": {
      "needs_background": "light"
     },
     "output_type": "display_data"
    },
    {
     "data": {
      "text/plain": [
       "<Figure size 432x288 with 0 Axes>"
      ]
     },
     "metadata": {},
     "output_type": "display_data"
    },
    {
     "data": {
      "image/png": "[encoded data removed]",
      "text/plain": [
       "<Figure size 432x288 with 1 Axes>"
      ]
     },
     "metadata": {
      "needs_background": "light"
     },
     "output_type": "display_data"
    },
    {
     "data": {
      "text/plain": [
       "<Figure size 432x288 with 0 Axes>"
      ]
     },
     "metadata": {},
     "output_type": "display_data"
    },
    {
     "data": {
      "image/png": "[encoded data removed]",
      "text/plain": [
       "<Figure size 432x288 with 1 Axes>"
      ]
     },
     "metadata": {
      "needs_background": "light"
     },
     "output_type": "display_data"
    },
    {
     "data": {
      "text/plain": [
       "<Figure size 432x288 with 0 Axes>"
      ]
     },
     "metadata": {},
     "output_type": "display_data"
    },
    {
     "data": {
      "image/png": "[encoded data removed]",
      "text/plain": [
       "<Figure size 432x288 with 1 Axes>"
      ]
     },
     "metadata": {
      "needs_background": "light"
     },
     "output_type": "display_data"
    },
    {
     "data": {
      "text/plain": [
       "<Figure size 432x288 with 0 Axes>"
      ]
     },
     "metadata": {},
     "output_type": "display_data"
    },
    {
     "data": {
      "image/png": "[encoded data removed]",
      "text/plain": [
       "<Figure size 432x288 with 1 Axes>"
      ]
     },
     "metadata": {
      "needs_background": "light"
     },
     "output_type": "display_data"
    },
    {
     "data": {
      "text/plain": [
       "<Figure size 432x288 with 0 Axes>"
      ]
     },
     "metadata": {},
     "output_type": "display_data"
    },
    {
     "data": {
      "image/png": "[encoded data removed]",
      "text/plain": [
       "<Figure size 432x288 with 1 Axes>"
      ]
     },
     "metadata": {
      "needs_background": "light"
     },
     "output_type": "display_data"
    },
    {
     "data": {
      "text/plain": [
       "<Figure size 432x288 with 0 Axes>"
      ]
     },
     "metadata": {},
     "output_type": "display_data"
    },
    {
     "data": {
      "image/png": "[encoded data removed]",
      "text/plain": [
       "<Figure size 432x288 with 1 Axes>"
      ]
     },
     "metadata": {
      "needs_background": "light"
     },
     "output_type": "display_data"
    }
   ],
   "source": [
    "for cluster in all_clusters:\n",
    "    plt.figure()\n",
    "    anomaly_data[anomaly_data[\"cluster\"]==cluster][[\"SpecialProjectsCount\"]].hist(bins=20)\n",
    "    plt.title(\"Special projects histogram for cluster %d\"%(cluster))\n",
    "    plt.show()"
   ]
  },
  {
   "cell_type": "code",
   "execution_count": 62,
   "id": "8b0b0769",
   "metadata": {},
   "outputs": [
    {
     "name": "stdout",
     "output_type": "stream",
     "text": [
      "['Dietrich, Jenna  ', 'Biden, Lowan  M', 'Akinkuolie, Sarah', 'Daniele, Ann  ', 'Baczenski, Rachael  ', 'Clukey, Elijian', 'Estremera, Miguel', 'Bozzi, Charles']\n",
      "[2, 72, 10, 51, 84, 21, 27, 61]\n",
      "[]\n",
      "[]\n"
     ]
    }
   ],
   "source": [
    "high_projects_employees=[]\n",
    "low_projects_employees=[]\n",
    "high_projects_employees_idx=[]\n",
    "low_projects_employees_idx=[]\n",
    "upper_cutoff=2.5\n",
    "lower_cutoff=-2.5\n",
    "for cluster in all_clusters:\n",
    "    projects=anomaly_data[anomaly_data[\"cluster\"]==cluster][[\"SpecialProjectsCount\"]]\n",
    "    mean_projects=np.mean(projects)\n",
    "    sd_projects=np.std(projects)\n",
    "    z=(projects-mean_projects)/sd_projects\n",
    "    z=z[\"SpecialProjectsCount\"]\n",
    "    high_projects_employees.extend([anomaly_data[\"Employee_Name\"].iloc[i] for i,x in enumerate(z) if x>upper_cutoff])\n",
    "    high_projects_employees_idx.extend([i for i,x in enumerate(z) if x>upper_cutoff])\n",
    "    low_projects_employees.extend([anomaly_data[\"Employee_Name\"].iloc[i] for i,x in enumerate(z) if x<lower_cutoff])\n",
    "    low_projects_employees_idx.extend([i for i,x in enumerate(z) if x<lower_cutoff])\n",
    "\n",
    "high_projects_employees=list(set(high_projects_employees))\n",
    "high_projects_employees_idx=list(set(high_projects_employees_idx))\n",
    "low_projects_employees=list(set(low_projects_employees))\n",
    "low_projects_employees_idx=list(set(low_projects_employees_idx))\n",
    "\n",
    "print(high_projects_employees)\n",
    "print(high_projects_employees_idx)\n",
    "print(low_projects_employees)\n",
    "print(low_projects_employees_idx)"
   ]
  },
  {
   "cell_type": "code",
   "execution_count": 63,
   "id": "a92bcf1f",
   "metadata": {},
   "outputs": [
    {
     "data": {
      "text/html": [
       "<div>\n",
       "<style scoped>\n",
       "    .dataframe tbody tr th:only-of-type {\n",
       "        vertical-align: middle;\n",
       "    }\n",
       "\n",
       "    .dataframe tbody tr th {\n",
       "        vertical-align: top;\n",
       "    }\n",
       "\n",
       "    .dataframe thead th {\n",
       "        text-align: right;\n",
       "    }\n",
       "</style>\n",
       "<table border=\"1\" class=\"dataframe\">\n",
       "  <thead>\n",
       "    <tr style=\"text-align: right;\">\n",
       "      <th></th>\n",
       "      <th>Employee_Name</th>\n",
       "      <th>Salary</th>\n",
       "      <th>HispanicLatino</th>\n",
       "      <th>RaceDesc</th>\n",
       "      <th>ManagerName</th>\n",
       "      <th>PerformanceScore</th>\n",
       "      <th>EngagementSurvey</th>\n",
       "      <th>EmpSatisfaction</th>\n",
       "      <th>SpecialProjectsCount</th>\n",
       "      <th>DaysLateLast30</th>\n",
       "      <th>Absences</th>\n",
       "      <th>cluster</th>\n",
       "    </tr>\n",
       "  </thead>\n",
       "  <tbody>\n",
       "    <tr>\n",
       "      <th>2</th>\n",
       "      <td>Akinkuolie, Sarah</td>\n",
       "      <td>64955</td>\n",
       "      <td>No</td>\n",
       "      <td>White</td>\n",
       "      <td>Kissy Sullivan</td>\n",
       "      <td>Fully Meets</td>\n",
       "      <td>3.02</td>\n",
       "      <td>3</td>\n",
       "      <td>0</td>\n",
       "      <td>0</td>\n",
       "      <td>3</td>\n",
       "      <td>0</td>\n",
       "    </tr>\n",
       "    <tr>\n",
       "      <th>72</th>\n",
       "      <td>Dietrich, Jenna</td>\n",
       "      <td>59231</td>\n",
       "      <td>Yes</td>\n",
       "      <td>White</td>\n",
       "      <td>John Smith</td>\n",
       "      <td>PIP</td>\n",
       "      <td>2.30</td>\n",
       "      <td>1</td>\n",
       "      <td>0</td>\n",
       "      <td>2</td>\n",
       "      <td>17</td>\n",
       "      <td>6</td>\n",
       "    </tr>\n",
       "    <tr>\n",
       "      <th>10</th>\n",
       "      <td>Baczenski, Rachael</td>\n",
       "      <td>54670</td>\n",
       "      <td>Yes</td>\n",
       "      <td>Black or African American</td>\n",
       "      <td>David Stanley</td>\n",
       "      <td>Fully Meets</td>\n",
       "      <td>4.20</td>\n",
       "      <td>4</td>\n",
       "      <td>0</td>\n",
       "      <td>0</td>\n",
       "      <td>12</td>\n",
       "      <td>0</td>\n",
       "    </tr>\n",
       "    <tr>\n",
       "      <th>51</th>\n",
       "      <td>Clukey, Elijian</td>\n",
       "      <td>50373</td>\n",
       "      <td>No</td>\n",
       "      <td>White</td>\n",
       "      <td>Brannon Miller</td>\n",
       "      <td>Exceeds</td>\n",
       "      <td>4.10</td>\n",
       "      <td>4</td>\n",
       "      <td>0</td>\n",
       "      <td>0</td>\n",
       "      <td>5</td>\n",
       "      <td>0</td>\n",
       "    </tr>\n",
       "    <tr>\n",
       "      <th>84</th>\n",
       "      <td>Estremera, Miguel</td>\n",
       "      <td>60340</td>\n",
       "      <td>No</td>\n",
       "      <td>White</td>\n",
       "      <td>Michael Albert</td>\n",
       "      <td>Needs Improvement</td>\n",
       "      <td>5.00</td>\n",
       "      <td>4</td>\n",
       "      <td>0</td>\n",
       "      <td>5</td>\n",
       "      <td>16</td>\n",
       "      <td>2</td>\n",
       "    </tr>\n",
       "    <tr>\n",
       "      <th>21</th>\n",
       "      <td>Biden, Lowan  M</td>\n",
       "      <td>64919</td>\n",
       "      <td>No</td>\n",
       "      <td>Asian</td>\n",
       "      <td>Ketsia Liebig</td>\n",
       "      <td>Fully Meets</td>\n",
       "      <td>4.20</td>\n",
       "      <td>3</td>\n",
       "      <td>0</td>\n",
       "      <td>0</td>\n",
       "      <td>2</td>\n",
       "      <td>6</td>\n",
       "    </tr>\n",
       "    <tr>\n",
       "      <th>27</th>\n",
       "      <td>Bozzi, Charles</td>\n",
       "      <td>74312</td>\n",
       "      <td>No</td>\n",
       "      <td>Asian</td>\n",
       "      <td>Janet King</td>\n",
       "      <td>Fully Meets</td>\n",
       "      <td>3.39</td>\n",
       "      <td>3</td>\n",
       "      <td>0</td>\n",
       "      <td>0</td>\n",
       "      <td>14</td>\n",
       "      <td>2</td>\n",
       "    </tr>\n",
       "    <tr>\n",
       "      <th>61</th>\n",
       "      <td>Daniele, Ann</td>\n",
       "      <td>85028</td>\n",
       "      <td>No</td>\n",
       "      <td>White</td>\n",
       "      <td>Peter Monroe</td>\n",
       "      <td>Fully Meets</td>\n",
       "      <td>3.10</td>\n",
       "      <td>5</td>\n",
       "      <td>8</td>\n",
       "      <td>0</td>\n",
       "      <td>19</td>\n",
       "      <td>3</td>\n",
       "    </tr>\n",
       "  </tbody>\n",
       "</table>\n",
       "</div>"
      ],
      "text/plain": [
       "           Employee_Name  Salary HispanicLatino                   RaceDesc  \\\n",
       "2      Akinkuolie, Sarah   64955             No                      White   \n",
       "72     Dietrich, Jenna     59231            Yes                      White   \n",
       "10  Baczenski, Rachael     54670            Yes  Black or African American   \n",
       "51       Clukey, Elijian   50373             No                      White   \n",
       "84     Estremera, Miguel   60340             No                      White   \n",
       "21       Biden, Lowan  M   64919             No                      Asian   \n",
       "27        Bozzi, Charles   74312             No                      Asian   \n",
       "61        Daniele, Ann     85028             No                      White   \n",
       "\n",
       "       ManagerName   PerformanceScore  EngagementSurvey  EmpSatisfaction  \\\n",
       "2   Kissy Sullivan        Fully Meets              3.02                3   \n",
       "72      John Smith                PIP              2.30                1   \n",
       "10   David Stanley        Fully Meets              4.20                4   \n",
       "51  Brannon Miller            Exceeds              4.10                4   \n",
       "84  Michael Albert  Needs Improvement              5.00                4   \n",
       "21   Ketsia Liebig        Fully Meets              4.20                3   \n",
       "27      Janet King        Fully Meets              3.39                3   \n",
       "61    Peter Monroe        Fully Meets              3.10                5   \n",
       "\n",
       "    SpecialProjectsCount  DaysLateLast30  Absences  cluster  \n",
       "2                      0               0         3        0  \n",
       "72                     0               2        17        6  \n",
       "10                     0               0        12        0  \n",
       "51                     0               0         5        0  \n",
       "84                     0               5        16        2  \n",
       "21                     0               0         2        6  \n",
       "27                     0               0        14        2  \n",
       "61                     8               0        19        3  "
      ]
     },
     "execution_count": 63,
     "metadata": {},
     "output_type": "execute_result"
    }
   ],
   "source": [
    "anomaly_employees_high_projects_data=data.iloc[high_projects_employees_idx]\n",
    "anomaly_employees_high_projects_data[['Employee_Name','Salary','HispanicLatino','RaceDesc','ManagerName','PerformanceScore',\n",
    "                        'EngagementSurvey', 'EmpSatisfaction',\"SpecialProjectsCount\",\"DaysLateLast30\",\"Absences\",\"cluster\"]]"
   ]
  },
  {
   "cell_type": "code",
   "execution_count": 64,
   "id": "a4c8ac14",
   "metadata": {},
   "outputs": [
    {
     "data": {
      "text/html": [
       "<div>\n",
       "<style scoped>\n",
       "    .dataframe tbody tr th:only-of-type {\n",
       "        vertical-align: middle;\n",
       "    }\n",
       "\n",
       "    .dataframe tbody tr th {\n",
       "        vertical-align: top;\n",
       "    }\n",
       "\n",
       "    .dataframe thead th {\n",
       "        text-align: right;\n",
       "    }\n",
       "</style>\n",
       "<table border=\"1\" class=\"dataframe\">\n",
       "  <thead>\n",
       "    <tr style=\"text-align: right;\">\n",
       "      <th></th>\n",
       "      <th>Employee_Name</th>\n",
       "      <th>EmpID</th>\n",
       "      <th>PerfScoreID</th>\n",
       "      <th>FromDiversityJobFairID</th>\n",
       "      <th>Salary</th>\n",
       "      <th>Termd</th>\n",
       "      <th>Position</th>\n",
       "      <th>State</th>\n",
       "      <th>Zip</th>\n",
       "      <th>DOB</th>\n",
       "      <th>...</th>\n",
       "      <th>StateID</th>\n",
       "      <th>Age</th>\n",
       "      <th>SexID</th>\n",
       "      <th>MaritalDescID</th>\n",
       "      <th>CitizenDescID</th>\n",
       "      <th>HispanicLatinoID</th>\n",
       "      <th>RaceDescID</th>\n",
       "      <th>YearsHired</th>\n",
       "      <th>YearsTerminated</th>\n",
       "      <th>cluster</th>\n",
       "    </tr>\n",
       "  </thead>\n",
       "  <tbody>\n",
       "  </tbody>\n",
       "</table>\n",
       "<p>0 rows × 39 columns</p>\n",
       "</div>"
      ],
      "text/plain": [
       "Empty DataFrame\n",
       "Columns: [Employee_Name, EmpID, PerfScoreID, FromDiversityJobFairID, Salary, Termd, Position, State, Zip, DOB, Sex, MaritalDesc, CitizenDesc, HispanicLatino, RaceDesc, DateofHire, DateofTermination, TermReason, EmploymentStatus, Department, ManagerName, RecruitmentSource, PerformanceScore, EngagementSurvey, EmpSatisfaction, SpecialProjectsCount, LastPerformanceReview_Date, DaysLateLast30, Absences, StateID, Age, SexID, MaritalDescID, CitizenDescID, HispanicLatinoID, RaceDescID, YearsHired, YearsTerminated, cluster]\n",
       "Index: []\n",
       "\n",
       "[0 rows x 39 columns]"
      ]
     },
     "execution_count": 64,
     "metadata": {},
     "output_type": "execute_result"
    }
   ],
   "source": [
    "anomaly_employees_low_projects_data=data.iloc[low_projects_employees_idx]\n",
    "anomaly_employees_low_projects_data[['Employee_Name','Salary','HispanicLatino','RaceDesc','ManagerName','PerformanceScore',\n",
    "                        'EngagementSurvey', 'EmpSatisfaction',\"SpecialProjectsCount\",\"DaysLateLast30\",\"Absences\",\"cluster\"]]\n",
    "anomaly_employees_low_projects_data"
   ]
  },
  {
   "cell_type": "code",
   "execution_count": 65,
   "id": "cc281393",
   "metadata": {},
   "outputs": [
    {
     "data": {
      "text/plain": [
       "array([[<AxesSubplot:title={'center':'DaysLateLast30'}>]], dtype=object)"
      ]
     },
     "execution_count": 65,
     "metadata": {},
     "output_type": "execute_result"
    },
    {
     "data": {
      "image/png": "[encoded data removed]",
      "text/plain": [
       "<Figure size 432x288 with 1 Axes>"
      ]
     },
     "metadata": {
      "needs_background": "light"
     },
     "output_type": "display_data"
    }
   ],
   "source": [
    "############################\n",
    "#Find anomaly employees (with respect to their domegraphic cluster) based on DaysLateLast30.\n",
    "############################\n",
    "anomaly_data[anomaly_data[\"cluster\"]==0][[\"DaysLateLast30\"]].hist(bins=20)"
   ]
  },
  {
   "cell_type": "code",
   "execution_count": 66,
   "id": "de4d94dd",
   "metadata": {},
   "outputs": [
    {
     "data": {
      "text/plain": [
       "<Figure size 432x288 with 0 Axes>"
      ]
     },
     "metadata": {},
     "output_type": "display_data"
    },
    {
     "data": {
      "image/png": "[encoded data removed]",
      "text/plain": [
       "<Figure size 432x288 with 1 Axes>"
      ]
     },
     "metadata": {
      "needs_background": "light"
     },
     "output_type": "display_data"
    },
    {
     "data": {
      "text/plain": [
       "<Figure size 432x288 with 0 Axes>"
      ]
     },
     "metadata": {},
     "output_type": "display_data"
    },
    {
     "data": {
      "image/png": "[encoded data removed]",
      "text/plain": [
       "<Figure size 432x288 with 1 Axes>"
      ]
     },
     "metadata": {
      "needs_background": "light"
     },
     "output_type": "display_data"
    },
    {
     "data": {
      "text/plain": [
       "<Figure size 432x288 with 0 Axes>"
      ]
     },
     "metadata": {},
     "output_type": "display_data"
    },
    {
     "data": {
      "image/png": "[encoded data removed]",
      "text/plain": [
       "<Figure size 432x288 with 1 Axes>"
      ]
     },
     "metadata": {
      "needs_background": "light"
     },
     "output_type": "display_data"
    },
    {
     "data": {
      "text/plain": [
       "<Figure size 432x288 with 0 Axes>"
      ]
     },
     "metadata": {},
     "output_type": "display_data"
    },
    {
     "data": {
      "image/png": "[encoded data removed]",
      "text/plain": [
       "<Figure size 432x288 with 1 Axes>"
      ]
     },
     "metadata": {
      "needs_background": "light"
     },
     "output_type": "display_data"
    },
    {
     "data": {
      "text/plain": [
       "<Figure size 432x288 with 0 Axes>"
      ]
     },
     "metadata": {},
     "output_type": "display_data"
    },
    {
     "data": {
      "image/png": "[encoded data removed]",
      "text/plain": [
       "<Figure size 432x288 with 1 Axes>"
      ]
     },
     "metadata": {
      "needs_background": "light"
     },
     "output_type": "display_data"
    },
    {
     "data": {
      "text/plain": [
       "<Figure size 432x288 with 0 Axes>"
      ]
     },
     "metadata": {},
     "output_type": "display_data"
    },
    {
     "data": {
      "image/png": "[encoded data removed]",
      "text/plain": [
       "<Figure size 432x288 with 1 Axes>"
      ]
     },
     "metadata": {
      "needs_background": "light"
     },
     "output_type": "display_data"
    },
    {
     "data": {
      "text/plain": [
       "<Figure size 432x288 with 0 Axes>"
      ]
     },
     "metadata": {},
     "output_type": "display_data"
    },
    {
     "data": {
      "image/png": "[encoded data removed]",
      "text/plain": [
       "<Figure size 432x288 with 1 Axes>"
      ]
     },
     "metadata": {
      "needs_background": "light"
     },
     "output_type": "display_data"
    }
   ],
   "source": [
    "for cluster in all_clusters:\n",
    "    plt.figure()\n",
    "    anomaly_data[anomaly_data[\"cluster\"]==cluster][[\"DaysLateLast30\"]].hist(bins=20)\n",
    "    plt.title(\"Days late in the last 30 histogram for cluster %d\"%(cluster))\n",
    "    plt.show()"
   ]
  },
  {
   "cell_type": "code",
   "execution_count": 67,
   "id": "de3edef9",
   "metadata": {},
   "outputs": [
    {
     "name": "stdout",
     "output_type": "stream",
     "text": [
      "['Buccheri, Joseph  ', 'Billis, Helen', 'Delarge, Alex', 'Chivukula, Enola', 'Beatrice, Courtney ', 'Alagbe,Trina', 'Clukey, Elijian', 'Bernstein, Sean', 'Costello, Frank', 'Barbara, Thomas', 'Chigurh, Anton', 'Bozzi, Charles', 'Booth, Frank']\n",
      "[67, 3, 11, 45, 46, 17, 51, 20, 22, 25, 27, 30, 57]\n",
      "[]\n",
      "[]\n"
     ]
    }
   ],
   "source": [
    "high_days_late_employees=[]\n",
    "low_days_late_employees=[]\n",
    "high_days_late_employees_idx=[]\n",
    "low_days_late_employees_idx=[]\n",
    "upper_cutoff=2.5\n",
    "lower_cutoff=-2.5\n",
    "for cluster in all_clusters:\n",
    "    days_late=anomaly_data[anomaly_data[\"cluster\"]==cluster][[\"DaysLateLast30\"]]\n",
    "    mean_days_late=np.mean(days_late)\n",
    "    sd_days_late=np.std(days_late)\n",
    "    z=(days_late-mean_days_late)/sd_days_late\n",
    "    z=z[\"DaysLateLast30\"]\n",
    "    high_days_late_employees.extend([anomaly_data[\"Employee_Name\"].iloc[i] for i,x in enumerate(z) if x>upper_cutoff])\n",
    "    high_days_late_employees_idx.extend([i for i,x in enumerate(z) if x>upper_cutoff])\n",
    "    low_days_late_employees.extend([anomaly_data[\"Employee_Name\"].iloc[i] for i,x in enumerate(z) if x<lower_cutoff])\n",
    "    low_days_late_employees_idx.extend([i for i,x in enumerate(z) if x<lower_cutoff])\n",
    "\n",
    "\n",
    "high_days_late_employees=list(set(high_days_late_employees))\n",
    "high_days_late_employees_idx=list(set(high_days_late_employees_idx))\n",
    "low_days_late_employees=list(set(low_days_late_employees))\n",
    "low_days_late_employees_idx=list(set(low_days_late_employees_idx))\n",
    "\n",
    "print(high_days_late_employees)\n",
    "print(high_days_late_employees_idx)\n",
    "print(low_days_late_employees)\n",
    "print(low_days_late_employees_idx)"
   ]
  },
  {
   "cell_type": "code",
   "execution_count": 68,
   "id": "945fed5e",
   "metadata": {},
   "outputs": [
    {
     "data": {
      "text/html": [
       "<div>\n",
       "<style scoped>\n",
       "    .dataframe tbody tr th:only-of-type {\n",
       "        vertical-align: middle;\n",
       "    }\n",
       "\n",
       "    .dataframe tbody tr th {\n",
       "        vertical-align: top;\n",
       "    }\n",
       "\n",
       "    .dataframe thead th {\n",
       "        text-align: right;\n",
       "    }\n",
       "</style>\n",
       "<table border=\"1\" class=\"dataframe\">\n",
       "  <thead>\n",
       "    <tr style=\"text-align: right;\">\n",
       "      <th></th>\n",
       "      <th>Employee_Name</th>\n",
       "      <th>Salary</th>\n",
       "      <th>HispanicLatino</th>\n",
       "      <th>RaceDesc</th>\n",
       "      <th>ManagerName</th>\n",
       "      <th>PerformanceScore</th>\n",
       "      <th>EngagementSurvey</th>\n",
       "      <th>EmpSatisfaction</th>\n",
       "      <th>SpecialProjectsCount</th>\n",
       "      <th>DaysLateLast30</th>\n",
       "      <th>Absences</th>\n",
       "      <th>cluster</th>\n",
       "    </tr>\n",
       "  </thead>\n",
       "  <tbody>\n",
       "    <tr>\n",
       "      <th>67</th>\n",
       "      <td>Delarge, Alex</td>\n",
       "      <td>61568</td>\n",
       "      <td>No</td>\n",
       "      <td>Two or more races</td>\n",
       "      <td>John Smith</td>\n",
       "      <td>PIP</td>\n",
       "      <td>1.93</td>\n",
       "      <td>3</td>\n",
       "      <td>0</td>\n",
       "      <td>6</td>\n",
       "      <td>5</td>\n",
       "      <td>2</td>\n",
       "    </tr>\n",
       "    <tr>\n",
       "      <th>3</th>\n",
       "      <td>Alagbe,Trina</td>\n",
       "      <td>64991</td>\n",
       "      <td>No</td>\n",
       "      <td>White</td>\n",
       "      <td>Elijiah Gray</td>\n",
       "      <td>Fully Meets</td>\n",
       "      <td>4.84</td>\n",
       "      <td>5</td>\n",
       "      <td>0</td>\n",
       "      <td>0</td>\n",
       "      <td>15</td>\n",
       "      <td>0</td>\n",
       "    </tr>\n",
       "    <tr>\n",
       "      <th>11</th>\n",
       "      <td>Barbara, Thomas</td>\n",
       "      <td>47211</td>\n",
       "      <td>Yes</td>\n",
       "      <td>Black or African American</td>\n",
       "      <td>Kissy Sullivan</td>\n",
       "      <td>Fully Meets</td>\n",
       "      <td>4.20</td>\n",
       "      <td>3</td>\n",
       "      <td>0</td>\n",
       "      <td>0</td>\n",
       "      <td>15</td>\n",
       "      <td>1</td>\n",
       "    </tr>\n",
       "    <tr>\n",
       "      <th>45</th>\n",
       "      <td>Chigurh, Anton</td>\n",
       "      <td>66808</td>\n",
       "      <td>No</td>\n",
       "      <td>Black or African American</td>\n",
       "      <td>Lynn Daneault</td>\n",
       "      <td>Fully Meets</td>\n",
       "      <td>3.00</td>\n",
       "      <td>5</td>\n",
       "      <td>0</td>\n",
       "      <td>0</td>\n",
       "      <td>17</td>\n",
       "      <td>1</td>\n",
       "    </tr>\n",
       "    <tr>\n",
       "      <th>46</th>\n",
       "      <td>Chivukula, Enola</td>\n",
       "      <td>64786</td>\n",
       "      <td>No</td>\n",
       "      <td>White</td>\n",
       "      <td>Amy Dunn</td>\n",
       "      <td>Fully Meets</td>\n",
       "      <td>4.30</td>\n",
       "      <td>4</td>\n",
       "      <td>0</td>\n",
       "      <td>0</td>\n",
       "      <td>3</td>\n",
       "      <td>4</td>\n",
       "    </tr>\n",
       "    <tr>\n",
       "      <th>17</th>\n",
       "      <td>Beatrice, Courtney</td>\n",
       "      <td>59026</td>\n",
       "      <td>No</td>\n",
       "      <td>White</td>\n",
       "      <td>Elijiah Gray</td>\n",
       "      <td>Fully Meets</td>\n",
       "      <td>5.00</td>\n",
       "      <td>5</td>\n",
       "      <td>0</td>\n",
       "      <td>0</td>\n",
       "      <td>12</td>\n",
       "      <td>4</td>\n",
       "    </tr>\n",
       "    <tr>\n",
       "      <th>51</th>\n",
       "      <td>Clukey, Elijian</td>\n",
       "      <td>50373</td>\n",
       "      <td>No</td>\n",
       "      <td>White</td>\n",
       "      <td>Brannon Miller</td>\n",
       "      <td>Exceeds</td>\n",
       "      <td>4.10</td>\n",
       "      <td>4</td>\n",
       "      <td>0</td>\n",
       "      <td>0</td>\n",
       "      <td>5</td>\n",
       "      <td>0</td>\n",
       "    </tr>\n",
       "    <tr>\n",
       "      <th>20</th>\n",
       "      <td>Bernstein, Sean</td>\n",
       "      <td>51044</td>\n",
       "      <td>Yes</td>\n",
       "      <td>White</td>\n",
       "      <td>Amy Dunn</td>\n",
       "      <td>Fully Meets</td>\n",
       "      <td>5.00</td>\n",
       "      <td>3</td>\n",
       "      <td>0</td>\n",
       "      <td>0</td>\n",
       "      <td>13</td>\n",
       "      <td>2</td>\n",
       "    </tr>\n",
       "    <tr>\n",
       "      <th>22</th>\n",
       "      <td>Billis, Helen</td>\n",
       "      <td>62910</td>\n",
       "      <td>No</td>\n",
       "      <td>White</td>\n",
       "      <td>Brannon Miller</td>\n",
       "      <td>Exceeds</td>\n",
       "      <td>5.00</td>\n",
       "      <td>3</td>\n",
       "      <td>0</td>\n",
       "      <td>0</td>\n",
       "      <td>19</td>\n",
       "      <td>3</td>\n",
       "    </tr>\n",
       "    <tr>\n",
       "      <th>25</th>\n",
       "      <td>Booth, Frank</td>\n",
       "      <td>103613</td>\n",
       "      <td>No</td>\n",
       "      <td>Black or African American</td>\n",
       "      <td>Simon Roup</td>\n",
       "      <td>Fully Meets</td>\n",
       "      <td>3.50</td>\n",
       "      <td>5</td>\n",
       "      <td>7</td>\n",
       "      <td>0</td>\n",
       "      <td>2</td>\n",
       "      <td>5</td>\n",
       "    </tr>\n",
       "    <tr>\n",
       "      <th>27</th>\n",
       "      <td>Bozzi, Charles</td>\n",
       "      <td>74312</td>\n",
       "      <td>No</td>\n",
       "      <td>Asian</td>\n",
       "      <td>Janet King</td>\n",
       "      <td>Fully Meets</td>\n",
       "      <td>3.39</td>\n",
       "      <td>3</td>\n",
       "      <td>0</td>\n",
       "      <td>0</td>\n",
       "      <td>14</td>\n",
       "      <td>2</td>\n",
       "    </tr>\n",
       "    <tr>\n",
       "      <th>30</th>\n",
       "      <td>Buccheri, Joseph</td>\n",
       "      <td>65288</td>\n",
       "      <td>No</td>\n",
       "      <td>White</td>\n",
       "      <td>Webster Butler</td>\n",
       "      <td>Fully Meets</td>\n",
       "      <td>3.19</td>\n",
       "      <td>3</td>\n",
       "      <td>0</td>\n",
       "      <td>0</td>\n",
       "      <td>9</td>\n",
       "      <td>2</td>\n",
       "    </tr>\n",
       "    <tr>\n",
       "      <th>57</th>\n",
       "      <td>Costello, Frank</td>\n",
       "      <td>83552</td>\n",
       "      <td>No</td>\n",
       "      <td>White</td>\n",
       "      <td>Simon Roup</td>\n",
       "      <td>Fully Meets</td>\n",
       "      <td>3.04</td>\n",
       "      <td>3</td>\n",
       "      <td>6</td>\n",
       "      <td>0</td>\n",
       "      <td>2</td>\n",
       "      <td>3</td>\n",
       "    </tr>\n",
       "  </tbody>\n",
       "</table>\n",
       "</div>"
      ],
      "text/plain": [
       "          Employee_Name  Salary HispanicLatino                   RaceDesc  \\\n",
       "67        Delarge, Alex   61568             No          Two or more races   \n",
       "3          Alagbe,Trina   64991             No                      White   \n",
       "11      Barbara, Thomas   47211            Yes  Black or African American   \n",
       "45       Chigurh, Anton   66808             No  Black or African American   \n",
       "46     Chivukula, Enola   64786             No                      White   \n",
       "17  Beatrice, Courtney    59026             No                      White   \n",
       "51      Clukey, Elijian   50373             No                      White   \n",
       "20      Bernstein, Sean   51044            Yes                      White   \n",
       "22        Billis, Helen   62910             No                      White   \n",
       "25         Booth, Frank  103613             No  Black or African American   \n",
       "27       Bozzi, Charles   74312             No                      Asian   \n",
       "30   Buccheri, Joseph     65288             No                      White   \n",
       "57      Costello, Frank   83552             No                      White   \n",
       "\n",
       "       ManagerName PerformanceScore  EngagementSurvey  EmpSatisfaction  \\\n",
       "67      John Smith              PIP              1.93                3   \n",
       "3     Elijiah Gray      Fully Meets              4.84                5   \n",
       "11  Kissy Sullivan      Fully Meets              4.20                3   \n",
       "45   Lynn Daneault      Fully Meets              3.00                5   \n",
       "46        Amy Dunn      Fully Meets              4.30                4   \n",
       "17    Elijiah Gray      Fully Meets              5.00                5   \n",
       "51  Brannon Miller          Exceeds              4.10                4   \n",
       "20        Amy Dunn      Fully Meets              5.00                3   \n",
       "22  Brannon Miller          Exceeds              5.00                3   \n",
       "25      Simon Roup      Fully Meets              3.50                5   \n",
       "27      Janet King      Fully Meets              3.39                3   \n",
       "30  Webster Butler      Fully Meets              3.19                3   \n",
       "57      Simon Roup      Fully Meets              3.04                3   \n",
       "\n",
       "    SpecialProjectsCount  DaysLateLast30  Absences  cluster  \n",
       "67                     0               6         5        2  \n",
       "3                      0               0        15        0  \n",
       "11                     0               0        15        1  \n",
       "45                     0               0        17        1  \n",
       "46                     0               0         3        4  \n",
       "17                     0               0        12        4  \n",
       "51                     0               0         5        0  \n",
       "20                     0               0        13        2  \n",
       "22                     0               0        19        3  \n",
       "25                     7               0         2        5  \n",
       "27                     0               0        14        2  \n",
       "30                     0               0         9        2  \n",
       "57                     6               0         2        3  "
      ]
     },
     "execution_count": 68,
     "metadata": {},
     "output_type": "execute_result"
    }
   ],
   "source": [
    "anomaly_employees_high_days_late_data=data.iloc[high_days_late_employees_idx]\n",
    "anomaly_employees_high_days_late_data[['Employee_Name','Salary','HispanicLatino','RaceDesc','ManagerName','PerformanceScore',\n",
    "                        'EngagementSurvey', 'EmpSatisfaction',\"SpecialProjectsCount\",\"DaysLateLast30\",\"Absences\",\"cluster\"]]"
   ]
  },
  {
   "cell_type": "code",
   "execution_count": 69,
   "id": "10b106a1",
   "metadata": {},
   "outputs": [
    {
     "data": {
      "text/html": [
       "<div>\n",
       "<style scoped>\n",
       "    .dataframe tbody tr th:only-of-type {\n",
       "        vertical-align: middle;\n",
       "    }\n",
       "\n",
       "    .dataframe tbody tr th {\n",
       "        vertical-align: top;\n",
       "    }\n",
       "\n",
       "    .dataframe thead th {\n",
       "        text-align: right;\n",
       "    }\n",
       "</style>\n",
       "<table border=\"1\" class=\"dataframe\">\n",
       "  <thead>\n",
       "    <tr style=\"text-align: right;\">\n",
       "      <th></th>\n",
       "      <th>Employee_Name</th>\n",
       "      <th>Salary</th>\n",
       "      <th>HispanicLatino</th>\n",
       "      <th>RaceDesc</th>\n",
       "      <th>ManagerName</th>\n",
       "      <th>PerformanceScore</th>\n",
       "      <th>EngagementSurvey</th>\n",
       "      <th>EmpSatisfaction</th>\n",
       "      <th>SpecialProjectsCount</th>\n",
       "      <th>DaysLateLast30</th>\n",
       "      <th>Absences</th>\n",
       "      <th>cluster</th>\n",
       "    </tr>\n",
       "  </thead>\n",
       "  <tbody>\n",
       "  </tbody>\n",
       "</table>\n",
       "</div>"
      ],
      "text/plain": [
       "Empty DataFrame\n",
       "Columns: [Employee_Name, Salary, HispanicLatino, RaceDesc, ManagerName, PerformanceScore, EngagementSurvey, EmpSatisfaction, SpecialProjectsCount, DaysLateLast30, Absences, cluster]\n",
       "Index: []"
      ]
     },
     "execution_count": 69,
     "metadata": {},
     "output_type": "execute_result"
    }
   ],
   "source": [
    "anomaly_employees_low_days_late_data=data.iloc[low_days_late_employees_idx]\n",
    "anomaly_employees_low_days_late_data[['Employee_Name','Salary','HispanicLatino','RaceDesc','ManagerName','PerformanceScore',\n",
    "                        'EngagementSurvey', 'EmpSatisfaction',\"SpecialProjectsCount\",\"DaysLateLast30\",\"Absences\",\"cluster\"]]"
   ]
  },
  {
   "cell_type": "code",
   "execution_count": 70,
   "id": "273d5833",
   "metadata": {},
   "outputs": [
    {
     "data": {
      "text/plain": [
       "array([[<AxesSubplot:title={'center':'Absences'}>]], dtype=object)"
      ]
     },
     "execution_count": 70,
     "metadata": {},
     "output_type": "execute_result"
    },
    {
     "data": {
      "image/png": "[encoded data removed]",
      "text/plain": [
       "<Figure size 432x288 with 1 Axes>"
      ]
     },
     "metadata": {
      "needs_background": "light"
     },
     "output_type": "display_data"
    }
   ],
   "source": [
    "############################\n",
    "#Find anomaly employees (with respect to their domegraphic cluster) based on Absences.\n",
    "############################\n",
    "anomaly_data[anomaly_data[\"cluster\"]==0][[\"Absences\"]].hist(bins=20)"
   ]
  },
  {
   "cell_type": "code",
   "execution_count": 71,
   "id": "0242e462",
   "metadata": {},
   "outputs": [
    {
     "data": {
      "text/plain": [
       "<Figure size 432x288 with 0 Axes>"
      ]
     },
     "metadata": {},
     "output_type": "display_data"
    },
    {
     "data": {
      "image/png": "[encoded data removed]",
      "text/plain": [
       "<Figure size 432x288 with 1 Axes>"
      ]
     },
     "metadata": {
      "needs_background": "light"
     },
     "output_type": "display_data"
    },
    {
     "data": {
      "text/plain": [
       "<Figure size 432x288 with 0 Axes>"
      ]
     },
     "metadata": {},
     "output_type": "display_data"
    },
    {
     "data": {
      "image/png": "[encoded data removed]",
      "text/plain": [
       "<Figure size 432x288 with 1 Axes>"
      ]
     },
     "metadata": {
      "needs_background": "light"
     },
     "output_type": "display_data"
    },
    {
     "data": {
      "text/plain": [
       "<Figure size 432x288 with 0 Axes>"
      ]
     },
     "metadata": {},
     "output_type": "display_data"
    },
    {
     "data": {
      "image/png": "[encoded data removed]",
      "text/plain": [
       "<Figure size 432x288 with 1 Axes>"
      ]
     },
     "metadata": {
      "needs_background": "light"
     },
     "output_type": "display_data"
    },
    {
     "data": {
      "text/plain": [
       "<Figure size 432x288 with 0 Axes>"
      ]
     },
     "metadata": {},
     "output_type": "display_data"
    },
    {
     "data": {
      "image/png": "[encoded data removed]",
      "text/plain": [
       "<Figure size 432x288 with 1 Axes>"
      ]
     },
     "metadata": {
      "needs_background": "light"
     },
     "output_type": "display_data"
    },
    {
     "data": {
      "text/plain": [
       "<Figure size 432x288 with 0 Axes>"
      ]
     },
     "metadata": {},
     "output_type": "display_data"
    },
    {
     "data": {
      "image/png": "[encoded data removed]",
      "text/plain": [
       "<Figure size 432x288 with 1 Axes>"
      ]
     },
     "metadata": {
      "needs_background": "light"
     },
     "output_type": "display_data"
    },
    {
     "data": {
      "text/plain": [
       "<Figure size 432x288 with 0 Axes>"
      ]
     },
     "metadata": {},
     "output_type": "display_data"
    },
    {
     "data": {
      "image/png": "[encoded data removed]",
      "text/plain": [
       "<Figure size 432x288 with 1 Axes>"
      ]
     },
     "metadata": {
      "needs_background": "light"
     },
     "output_type": "display_data"
    },
    {
     "data": {
      "text/plain": [
       "<Figure size 432x288 with 0 Axes>"
      ]
     },
     "metadata": {},
     "output_type": "display_data"
    },
    {
     "data": {
      "image/png": "[encoded data removed]",
      "text/plain": [
       "<Figure size 432x288 with 1 Axes>"
      ]
     },
     "metadata": {
      "needs_background": "light"
     },
     "output_type": "display_data"
    }
   ],
   "source": [
    "for cluster in all_clusters:\n",
    "    plt.figure()\n",
    "    anomaly_data[anomaly_data[\"cluster\"]==cluster][[\"Absences\"]].hist(bins=20)\n",
    "    plt.title(\"Absences histogram for cluster %d\"%(cluster))\n",
    "    plt.show()"
   ]
  },
  {
   "cell_type": "code",
   "execution_count": 72,
   "id": "61575ea6",
   "metadata": {},
   "outputs": [
    {
     "name": "stdout",
     "output_type": "stream",
     "text": [
      "[]\n",
      "[]\n",
      "[]\n",
      "[]\n"
     ]
    }
   ],
   "source": [
    "high_absences_employees=[]\n",
    "low_absences_employees=[]\n",
    "high_absences_employees_idx=[]\n",
    "low_absences_employees_idx=[]\n",
    "upper_cutoff=2.5\n",
    "lower_cutoff=-2.5\n",
    "for cluster in all_clusters:\n",
    "    absences=anomaly_data[anomaly_data[\"cluster\"]==cluster][[\"Absences\"]]\n",
    "    mean_absences=np.mean(absences)\n",
    "    sd_absences=np.std(absences)\n",
    "    z=(absences-mean_absences)/sd_absences\n",
    "    z=z[\"Absences\"]\n",
    "    high_absences_employees.extend([anomaly_data[\"Employee_Name\"].iloc[i] for i,x in enumerate(z) if x>upper_cutoff])\n",
    "    high_absences_employees_idx.extend([i for i,x in enumerate(z) if x>upper_cutoff])\n",
    "    low_absences_employees.extend([anomaly_data[\"Employee_Name\"].iloc[i] for i,x in enumerate(z) if x<lower_cutoff])\n",
    "    low_absences_employees_idx.extend([i for i,x in enumerate(z) if x<lower_cutoff])\n",
    "\n",
    "high_absences_employees=list(set(high_absences_employees))\n",
    "high_absences_employees_idx=list(set(high_absences_employees_idx))\n",
    "low_absences_employees=list(set(low_absences_employees))\n",
    "low_absences_employees_idx=list(set(low_absences_employees_idx))\n",
    "\n",
    "print(high_absences_employees)\n",
    "print(high_absences_employees_idx)\n",
    "print(low_absences_employees)\n",
    "print(low_absences_employees_idx)"
   ]
  },
  {
   "cell_type": "code",
   "execution_count": 73,
   "id": "3d1c8659",
   "metadata": {},
   "outputs": [
    {
     "data": {
      "text/html": [
       "<div>\n",
       "<style scoped>\n",
       "    .dataframe tbody tr th:only-of-type {\n",
       "        vertical-align: middle;\n",
       "    }\n",
       "\n",
       "    .dataframe tbody tr th {\n",
       "        vertical-align: top;\n",
       "    }\n",
       "\n",
       "    .dataframe thead th {\n",
       "        text-align: right;\n",
       "    }\n",
       "</style>\n",
       "<table border=\"1\" class=\"dataframe\">\n",
       "  <thead>\n",
       "    <tr style=\"text-align: right;\">\n",
       "      <th></th>\n",
       "      <th>Employee_Name</th>\n",
       "      <th>Salary</th>\n",
       "      <th>HispanicLatino</th>\n",
       "      <th>RaceDesc</th>\n",
       "      <th>ManagerName</th>\n",
       "      <th>PerformanceScore</th>\n",
       "      <th>EngagementSurvey</th>\n",
       "      <th>EmpSatisfaction</th>\n",
       "      <th>SpecialProjectsCount</th>\n",
       "      <th>DaysLateLast30</th>\n",
       "      <th>Absences</th>\n",
       "      <th>cluster</th>\n",
       "    </tr>\n",
       "  </thead>\n",
       "  <tbody>\n",
       "  </tbody>\n",
       "</table>\n",
       "</div>"
      ],
      "text/plain": [
       "Empty DataFrame\n",
       "Columns: [Employee_Name, Salary, HispanicLatino, RaceDesc, ManagerName, PerformanceScore, EngagementSurvey, EmpSatisfaction, SpecialProjectsCount, DaysLateLast30, Absences, cluster]\n",
       "Index: []"
      ]
     },
     "execution_count": 73,
     "metadata": {},
     "output_type": "execute_result"
    }
   ],
   "source": [
    "anomaly_employees_high_absences_data=data.iloc[high_absences_employees_idx]\n",
    "anomaly_employees_high_absences_data[['Employee_Name','Salary','HispanicLatino','RaceDesc','ManagerName','PerformanceScore',\n",
    "                        'EngagementSurvey', 'EmpSatisfaction',\"SpecialProjectsCount\",\"DaysLateLast30\",\"Absences\",\"cluster\"]]"
   ]
  },
  {
   "cell_type": "code",
   "execution_count": 74,
   "id": "f257c9c7",
   "metadata": {},
   "outputs": [
    {
     "data": {
      "text/html": [
       "<div>\n",
       "<style scoped>\n",
       "    .dataframe tbody tr th:only-of-type {\n",
       "        vertical-align: middle;\n",
       "    }\n",
       "\n",
       "    .dataframe tbody tr th {\n",
       "        vertical-align: top;\n",
       "    }\n",
       "\n",
       "    .dataframe thead th {\n",
       "        text-align: right;\n",
       "    }\n",
       "</style>\n",
       "<table border=\"1\" class=\"dataframe\">\n",
       "  <thead>\n",
       "    <tr style=\"text-align: right;\">\n",
       "      <th></th>\n",
       "      <th>Employee_Name</th>\n",
       "      <th>Salary</th>\n",
       "      <th>HispanicLatino</th>\n",
       "      <th>RaceDesc</th>\n",
       "      <th>ManagerName</th>\n",
       "      <th>PerformanceScore</th>\n",
       "      <th>EngagementSurvey</th>\n",
       "      <th>EmpSatisfaction</th>\n",
       "      <th>SpecialProjectsCount</th>\n",
       "      <th>DaysLateLast30</th>\n",
       "      <th>Absences</th>\n",
       "      <th>cluster</th>\n",
       "    </tr>\n",
       "  </thead>\n",
       "  <tbody>\n",
       "  </tbody>\n",
       "</table>\n",
       "</div>"
      ],
      "text/plain": [
       "Empty DataFrame\n",
       "Columns: [Employee_Name, Salary, HispanicLatino, RaceDesc, ManagerName, PerformanceScore, EngagementSurvey, EmpSatisfaction, SpecialProjectsCount, DaysLateLast30, Absences, cluster]\n",
       "Index: []"
      ]
     },
     "execution_count": 74,
     "metadata": {},
     "output_type": "execute_result"
    }
   ],
   "source": [
    "anomaly_employees_low_absences_data=data.iloc[low_absences_employees_idx]\n",
    "anomaly_employees_low_absences_data[['Employee_Name','Salary','HispanicLatino','RaceDesc','ManagerName','PerformanceScore',\n",
    "                        'EngagementSurvey', 'EmpSatisfaction',\"SpecialProjectsCount\",\"DaysLateLast30\",\"Absences\",\"cluster\"]]"
   ]
  },
  {
   "cell_type": "code",
   "execution_count": 75,
   "id": "18d378de",
   "metadata": {},
   "outputs": [
    {
     "data": {
      "text/plain": [
       "array([[<AxesSubplot:title={'center':'PerfScoreID'}>]], dtype=object)"
      ]
     },
     "execution_count": 75,
     "metadata": {},
     "output_type": "execute_result"
    },
    {
     "data": {
      "image/png": "[encoded data removed]",
      "text/plain": [
       "<Figure size 432x288 with 1 Axes>"
      ]
     },
     "metadata": {
      "needs_background": "light"
     },
     "output_type": "display_data"
    }
   ],
   "source": [
    "############################\n",
    "#Find anomaly employees (with respect to their domegraphic cluster) based on PerfScoreID.\n",
    "############################\n",
    "anomaly_data[anomaly_data[\"cluster\"]==0][[\"PerfScoreID\"]].hist(bins=20)"
   ]
  },
  {
   "cell_type": "code",
   "execution_count": 76,
   "id": "c566f9f3",
   "metadata": {},
   "outputs": [
    {
     "data": {
      "text/plain": [
       "<Figure size 432x288 with 0 Axes>"
      ]
     },
     "metadata": {},
     "output_type": "display_data"
    },
    {
     "data": {
      "image/png": "[encoded data removed]",
      "text/plain": [
       "<Figure size 432x288 with 1 Axes>"
      ]
     },
     "metadata": {
      "needs_background": "light"
     },
     "output_type": "display_data"
    },
    {
     "data": {
      "text/plain": [
       "<Figure size 432x288 with 0 Axes>"
      ]
     },
     "metadata": {},
     "output_type": "display_data"
    },
    {
     "data": {
      "image/png": "[encoded data removed]",
      "text/plain": [
       "<Figure size 432x288 with 1 Axes>"
      ]
     },
     "metadata": {
      "needs_background": "light"
     },
     "output_type": "display_data"
    },
    {
     "data": {
      "text/plain": [
       "<Figure size 432x288 with 0 Axes>"
      ]
     },
     "metadata": {},
     "output_type": "display_data"
    },
    {
     "data": {
      "image/png": "[encoded data removed]",
      "text/plain": [
       "<Figure size 432x288 with 1 Axes>"
      ]
     },
     "metadata": {
      "needs_background": "light"
     },
     "output_type": "display_data"
    },
    {
     "data": {
      "text/plain": [
       "<Figure size 432x288 with 0 Axes>"
      ]
     },
     "metadata": {},
     "output_type": "display_data"
    },
    {
     "data": {
      "image/png": "[encoded data removed]",
      "text/plain": [
       "<Figure size 432x288 with 1 Axes>"
      ]
     },
     "metadata": {
      "needs_background": "light"
     },
     "output_type": "display_data"
    },
    {
     "data": {
      "text/plain": [
       "<Figure size 432x288 with 0 Axes>"
      ]
     },
     "metadata": {},
     "output_type": "display_data"
    },
    {
     "data": {
      "image/png": "[encoded data removed]",
      "text/plain": [
       "<Figure size 432x288 with 1 Axes>"
      ]
     },
     "metadata": {
      "needs_background": "light"
     },
     "output_type": "display_data"
    },
    {
     "data": {
      "text/plain": [
       "<Figure size 432x288 with 0 Axes>"
      ]
     },
     "metadata": {},
     "output_type": "display_data"
    },
    {
     "data": {
      "image/png": "[encoded data removed]",
      "text/plain": [
       "<Figure size 432x288 with 1 Axes>"
      ]
     },
     "metadata": {
      "needs_background": "light"
     },
     "output_type": "display_data"
    },
    {
     "data": {
      "text/plain": [
       "<Figure size 432x288 with 0 Axes>"
      ]
     },
     "metadata": {},
     "output_type": "display_data"
    },
    {
     "data": {
      "image/png": "[encoded data removed]",
      "text/plain": [
       "<Figure size 432x288 with 1 Axes>"
      ]
     },
     "metadata": {
      "needs_background": "light"
     },
     "output_type": "display_data"
    }
   ],
   "source": [
    "for cluster in all_clusters:\n",
    "    plt.figure()\n",
    "    anomaly_data[anomaly_data[\"cluster\"]==cluster][[\"PerfScoreID\"]].hist(bins=20)\n",
    "    plt.title(\"Performance score histogram for cluster %d\"%(cluster))\n",
    "    plt.show()"
   ]
  },
  {
   "cell_type": "code",
   "execution_count": 77,
   "id": "36bcc066",
   "metadata": {},
   "outputs": [
    {
     "name": "stdout",
     "output_type": "stream",
     "text": [
      "[]\n",
      "[]\n",
      "['Buccheri, Joseph  ', 'Billis, Helen', 'Brill, Donna', 'Dougall, Eric', 'Beatrice, Courtney ', 'Boutwell, Bonalyn', 'Clukey, Elijian', 'Bernstein, Sean', 'Bates, Norman', 'Chigurh, Anton', 'Bacong, Alejandro ']\n",
      "[9, 76, 45, 15, 17, 51, 20, 22, 26, 28, 30]\n"
     ]
    }
   ],
   "source": [
    "high_performance_employees=[]\n",
    "low_performance_employees=[]\n",
    "high_performance_employees_idx=[]\n",
    "low_performance_employees_idx=[]\n",
    "upper_cutoff=2.5\n",
    "lower_cutoff=-2.5\n",
    "for cluster in all_clusters:\n",
    "    performances=anomaly_data[anomaly_data[\"cluster\"]==cluster][[\"PerfScoreID\"]]\n",
    "    mean_performances=np.mean(performances)\n",
    "    sd_performances=np.std(performances)\n",
    "    z=(performances-mean_performances)/sd_performances\n",
    "    z=z[\"PerfScoreID\"]\n",
    "    high_performance_employees.extend([anomaly_data[\"Employee_Name\"].iloc[i] for i,x in enumerate(z) if x>upper_cutoff])\n",
    "    high_performance_employees_idx.extend([i for i,x in enumerate(z) if x>upper_cutoff])\n",
    "    low_performance_employees.extend([anomaly_data[\"Employee_Name\"].iloc[i] for i,x in enumerate(z) if x<lower_cutoff])\n",
    "    low_performance_employees_idx.extend([i for i,x in enumerate(z) if x<lower_cutoff])\n",
    "\n",
    "high_performance_employees=list(set(high_performance_employees))\n",
    "high_performance_employees_idx=list(set(high_performance_employees_idx))\n",
    "low_performance_employees=list(set(low_performance_employees))\n",
    "low_performance_employees_idx=list(set(low_performance_employees_idx))\n",
    "\n",
    "print(high_performance_employees)\n",
    "print(high_performance_employees_idx)\n",
    "print(low_performance_employees)\n",
    "print(low_performance_employees_idx)"
   ]
  },
  {
   "cell_type": "code",
   "execution_count": 78,
   "id": "fe152cc2",
   "metadata": {},
   "outputs": [
    {
     "data": {
      "text/html": [
       "<div>\n",
       "<style scoped>\n",
       "    .dataframe tbody tr th:only-of-type {\n",
       "        vertical-align: middle;\n",
       "    }\n",
       "\n",
       "    .dataframe tbody tr th {\n",
       "        vertical-align: top;\n",
       "    }\n",
       "\n",
       "    .dataframe thead th {\n",
       "        text-align: right;\n",
       "    }\n",
       "</style>\n",
       "<table border=\"1\" class=\"dataframe\">\n",
       "  <thead>\n",
       "    <tr style=\"text-align: right;\">\n",
       "      <th></th>\n",
       "      <th>Employee_Name</th>\n",
       "      <th>Salary</th>\n",
       "      <th>HispanicLatino</th>\n",
       "      <th>RaceDesc</th>\n",
       "      <th>ManagerName</th>\n",
       "      <th>PerformanceScore</th>\n",
       "      <th>EngagementSurvey</th>\n",
       "      <th>EmpSatisfaction</th>\n",
       "      <th>SpecialProjectsCount</th>\n",
       "      <th>DaysLateLast30</th>\n",
       "      <th>Absences</th>\n",
       "      <th>cluster</th>\n",
       "    </tr>\n",
       "  </thead>\n",
       "  <tbody>\n",
       "  </tbody>\n",
       "</table>\n",
       "</div>"
      ],
      "text/plain": [
       "Empty DataFrame\n",
       "Columns: [Employee_Name, Salary, HispanicLatino, RaceDesc, ManagerName, PerformanceScore, EngagementSurvey, EmpSatisfaction, SpecialProjectsCount, DaysLateLast30, Absences, cluster]\n",
       "Index: []"
      ]
     },
     "execution_count": 78,
     "metadata": {},
     "output_type": "execute_result"
    }
   ],
   "source": [
    "anomaly_employees_high_performance_data=data.iloc[high_performance_employees_idx]\n",
    "anomaly_employees_high_performance_data[['Employee_Name','Salary','HispanicLatino','RaceDesc','ManagerName','PerformanceScore',\n",
    "                        'EngagementSurvey', 'EmpSatisfaction',\"SpecialProjectsCount\",\"DaysLateLast30\",\"Absences\",\"cluster\"]]"
   ]
  },
  {
   "cell_type": "code",
   "execution_count": 79,
   "id": "e825580b",
   "metadata": {},
   "outputs": [
    {
     "data": {
      "text/html": [
       "<div>\n",
       "<style scoped>\n",
       "    .dataframe tbody tr th:only-of-type {\n",
       "        vertical-align: middle;\n",
       "    }\n",
       "\n",
       "    .dataframe tbody tr th {\n",
       "        vertical-align: top;\n",
       "    }\n",
       "\n",
       "    .dataframe thead th {\n",
       "        text-align: right;\n",
       "    }\n",
       "</style>\n",
       "<table border=\"1\" class=\"dataframe\">\n",
       "  <thead>\n",
       "    <tr style=\"text-align: right;\">\n",
       "      <th></th>\n",
       "      <th>Employee_Name</th>\n",
       "      <th>Salary</th>\n",
       "      <th>HispanicLatino</th>\n",
       "      <th>RaceDesc</th>\n",
       "      <th>ManagerName</th>\n",
       "      <th>PerformanceScore</th>\n",
       "      <th>EngagementSurvey</th>\n",
       "      <th>EmpSatisfaction</th>\n",
       "      <th>SpecialProjectsCount</th>\n",
       "      <th>DaysLateLast30</th>\n",
       "      <th>Absences</th>\n",
       "      <th>cluster</th>\n",
       "    </tr>\n",
       "  </thead>\n",
       "  <tbody>\n",
       "    <tr>\n",
       "      <th>9</th>\n",
       "      <td>Bacong, Alejandro</td>\n",
       "      <td>50178</td>\n",
       "      <td>No</td>\n",
       "      <td>White</td>\n",
       "      <td>Peter Monroe</td>\n",
       "      <td>Fully Meets</td>\n",
       "      <td>5.00</td>\n",
       "      <td>5</td>\n",
       "      <td>6</td>\n",
       "      <td>0</td>\n",
       "      <td>16</td>\n",
       "      <td>0</td>\n",
       "    </tr>\n",
       "    <tr>\n",
       "      <th>76</th>\n",
       "      <td>Dougall, Eric</td>\n",
       "      <td>138888</td>\n",
       "      <td>No</td>\n",
       "      <td>Black or African American</td>\n",
       "      <td>Jennifer Zamora</td>\n",
       "      <td>Exceeds</td>\n",
       "      <td>4.30</td>\n",
       "      <td>5</td>\n",
       "      <td>5</td>\n",
       "      <td>0</td>\n",
       "      <td>4</td>\n",
       "      <td>2</td>\n",
       "    </tr>\n",
       "    <tr>\n",
       "      <th>45</th>\n",
       "      <td>Chigurh, Anton</td>\n",
       "      <td>66808</td>\n",
       "      <td>No</td>\n",
       "      <td>Black or African American</td>\n",
       "      <td>Lynn Daneault</td>\n",
       "      <td>Fully Meets</td>\n",
       "      <td>3.00</td>\n",
       "      <td>5</td>\n",
       "      <td>0</td>\n",
       "      <td>0</td>\n",
       "      <td>17</td>\n",
       "      <td>1</td>\n",
       "    </tr>\n",
       "    <tr>\n",
       "      <th>15</th>\n",
       "      <td>Bates, Norman</td>\n",
       "      <td>57834</td>\n",
       "      <td>No</td>\n",
       "      <td>White</td>\n",
       "      <td>Kelley Spirea</td>\n",
       "      <td>Fully Meets</td>\n",
       "      <td>5.00</td>\n",
       "      <td>4</td>\n",
       "      <td>0</td>\n",
       "      <td>0</td>\n",
       "      <td>20</td>\n",
       "      <td>0</td>\n",
       "    </tr>\n",
       "    <tr>\n",
       "      <th>17</th>\n",
       "      <td>Beatrice, Courtney</td>\n",
       "      <td>59026</td>\n",
       "      <td>No</td>\n",
       "      <td>White</td>\n",
       "      <td>Elijiah Gray</td>\n",
       "      <td>Fully Meets</td>\n",
       "      <td>5.00</td>\n",
       "      <td>5</td>\n",
       "      <td>0</td>\n",
       "      <td>0</td>\n",
       "      <td>12</td>\n",
       "      <td>4</td>\n",
       "    </tr>\n",
       "    <tr>\n",
       "      <th>51</th>\n",
       "      <td>Clukey, Elijian</td>\n",
       "      <td>50373</td>\n",
       "      <td>No</td>\n",
       "      <td>White</td>\n",
       "      <td>Brannon Miller</td>\n",
       "      <td>Exceeds</td>\n",
       "      <td>4.10</td>\n",
       "      <td>4</td>\n",
       "      <td>0</td>\n",
       "      <td>0</td>\n",
       "      <td>5</td>\n",
       "      <td>0</td>\n",
       "    </tr>\n",
       "    <tr>\n",
       "      <th>20</th>\n",
       "      <td>Bernstein, Sean</td>\n",
       "      <td>51044</td>\n",
       "      <td>Yes</td>\n",
       "      <td>White</td>\n",
       "      <td>Amy Dunn</td>\n",
       "      <td>Fully Meets</td>\n",
       "      <td>5.00</td>\n",
       "      <td>3</td>\n",
       "      <td>0</td>\n",
       "      <td>0</td>\n",
       "      <td>13</td>\n",
       "      <td>2</td>\n",
       "    </tr>\n",
       "    <tr>\n",
       "      <th>22</th>\n",
       "      <td>Billis, Helen</td>\n",
       "      <td>62910</td>\n",
       "      <td>No</td>\n",
       "      <td>White</td>\n",
       "      <td>Brannon Miller</td>\n",
       "      <td>Exceeds</td>\n",
       "      <td>5.00</td>\n",
       "      <td>3</td>\n",
       "      <td>0</td>\n",
       "      <td>0</td>\n",
       "      <td>19</td>\n",
       "      <td>3</td>\n",
       "    </tr>\n",
       "    <tr>\n",
       "      <th>26</th>\n",
       "      <td>Boutwell, Bonalyn</td>\n",
       "      <td>106367</td>\n",
       "      <td>No</td>\n",
       "      <td>Black or African American</td>\n",
       "      <td>Brandon R. LeBlanc</td>\n",
       "      <td>Fully Meets</td>\n",
       "      <td>5.00</td>\n",
       "      <td>4</td>\n",
       "      <td>3</td>\n",
       "      <td>0</td>\n",
       "      <td>4</td>\n",
       "      <td>3</td>\n",
       "    </tr>\n",
       "    <tr>\n",
       "      <th>28</th>\n",
       "      <td>Brill, Donna</td>\n",
       "      <td>53492</td>\n",
       "      <td>No</td>\n",
       "      <td>White</td>\n",
       "      <td>David Stanley</td>\n",
       "      <td>Fully Meets</td>\n",
       "      <td>3.35</td>\n",
       "      <td>4</td>\n",
       "      <td>0</td>\n",
       "      <td>0</td>\n",
       "      <td>6</td>\n",
       "      <td>3</td>\n",
       "    </tr>\n",
       "    <tr>\n",
       "      <th>30</th>\n",
       "      <td>Buccheri, Joseph</td>\n",
       "      <td>65288</td>\n",
       "      <td>No</td>\n",
       "      <td>White</td>\n",
       "      <td>Webster Butler</td>\n",
       "      <td>Fully Meets</td>\n",
       "      <td>3.19</td>\n",
       "      <td>3</td>\n",
       "      <td>0</td>\n",
       "      <td>0</td>\n",
       "      <td>9</td>\n",
       "      <td>2</td>\n",
       "    </tr>\n",
       "  </tbody>\n",
       "</table>\n",
       "</div>"
      ],
      "text/plain": [
       "          Employee_Name  Salary HispanicLatino                   RaceDesc  \\\n",
       "9    Bacong, Alejandro    50178             No                      White   \n",
       "76        Dougall, Eric  138888             No  Black or African American   \n",
       "45       Chigurh, Anton   66808             No  Black or African American   \n",
       "15        Bates, Norman   57834             No                      White   \n",
       "17  Beatrice, Courtney    59026             No                      White   \n",
       "51      Clukey, Elijian   50373             No                      White   \n",
       "20      Bernstein, Sean   51044            Yes                      White   \n",
       "22        Billis, Helen   62910             No                      White   \n",
       "26    Boutwell, Bonalyn  106367             No  Black or African American   \n",
       "28         Brill, Donna   53492             No                      White   \n",
       "30   Buccheri, Joseph     65288             No                      White   \n",
       "\n",
       "           ManagerName PerformanceScore  EngagementSurvey  EmpSatisfaction  \\\n",
       "9         Peter Monroe      Fully Meets              5.00                5   \n",
       "76     Jennifer Zamora          Exceeds              4.30                5   \n",
       "45       Lynn Daneault      Fully Meets              3.00                5   \n",
       "15       Kelley Spirea      Fully Meets              5.00                4   \n",
       "17        Elijiah Gray      Fully Meets              5.00                5   \n",
       "51      Brannon Miller          Exceeds              4.10                4   \n",
       "20            Amy Dunn      Fully Meets              5.00                3   \n",
       "22      Brannon Miller          Exceeds              5.00                3   \n",
       "26  Brandon R. LeBlanc      Fully Meets              5.00                4   \n",
       "28       David Stanley      Fully Meets              3.35                4   \n",
       "30      Webster Butler      Fully Meets              3.19                3   \n",
       "\n",
       "    SpecialProjectsCount  DaysLateLast30  Absences  cluster  \n",
       "9                      6               0        16        0  \n",
       "76                     5               0         4        2  \n",
       "45                     0               0        17        1  \n",
       "15                     0               0        20        0  \n",
       "17                     0               0        12        4  \n",
       "51                     0               0         5        0  \n",
       "20                     0               0        13        2  \n",
       "22                     0               0        19        3  \n",
       "26                     3               0         4        3  \n",
       "28                     0               0         6        3  \n",
       "30                     0               0         9        2  "
      ]
     },
     "execution_count": 79,
     "metadata": {},
     "output_type": "execute_result"
    }
   ],
   "source": [
    "anomaly_employees_low_performance_data=data.iloc[low_performance_employees_idx]\n",
    "anomaly_employees_low_performance_data[['Employee_Name','Salary','HispanicLatino','RaceDesc','ManagerName','PerformanceScore',\n",
    "                        'EngagementSurvey', 'EmpSatisfaction',\"SpecialProjectsCount\",\"DaysLateLast30\",\"Absences\",\"cluster\"]]"
   ]
  },
  {
   "cell_type": "code",
   "execution_count": null,
   "id": "3aed66fe",
   "metadata": {},
   "outputs": [],
   "source": []
  },
  {
   "cell_type": "code",
   "execution_count": null,
   "id": "a5af4dee",
   "metadata": {},
   "outputs": [],
   "source": []
  }
 ],
 "metadata": {
  "kernelspec": {
   "display_name": "Python 3 (ipykernel)",
   "language": "python",
   "name": "python3"
  },
  "language_info": {
   "codemirror_mode": {
    "name": "ipython",
    "version": 3
   },
   "file_extension": ".py",
   "mimetype": "text/x-python",
   "name": "python",
   "nbconvert_exporter": "python",
   "pygments_lexer": "ipython3",
   "version": "3.9.12"
  }
 },
 "nbformat": 4,
 "nbformat_minor": 5
}
